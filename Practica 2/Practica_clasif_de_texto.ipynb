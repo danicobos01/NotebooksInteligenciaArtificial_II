{
 "cells": [
  {
   "cell_type": "markdown",
   "metadata": {},
   "source": [
    "# Práctica 2: Procesamiento del Lenguaje Natural\n",
    "\n",
    "__Fecha de entrega: 3 de abril de 2022__\n",
    "\n",
    "El objetivo de esta práctica es aplicar los conceptos teóricos vistos en clase en el módulo de PLN. La práctica consta de 2 notebooks que se entregarán simultáneamente en la tarea de entrega habilitada en el Campus  Virtual.\n",
    "\n",
    "Lo más importante en esta práctica no es el código Python, sino el análisis de los datos y modelos que construyas y las explicaciones razonadas de cada una de las decisiones que tomes. __No se valorarán trozos de código o gráficas sin ningún tipo de contexto o explicación__.\n",
    "\n",
    "Finalmente, recuerda establecer el parámetro `random_state` en todas las funciones que tomen decisiones aleatorias para que los resultados sean reproducibles (los resultados no varíen entre ejecuciones)."
   ]
  },
  {
   "cell_type": "code",
   "execution_count": 9,
   "metadata": {},
   "outputs": [],
   "source": [
    "RANDOM_STATE = 57"
   ]
  },
  {
   "cell_type": "markdown",
   "metadata": {},
   "source": [
    "# Apartado 1: Clasificador de noticias"
   ]
  },
  {
   "cell_type": "markdown",
   "metadata": {},
   "source": [
    "## 1) Carga del conjunto de datos\n",
    "\n",
    "El fichero `BBC News.csv` contiene noticias clasificadas en 5 categorías diferentes. \n",
    "\n",
    "Carga los datos en un dataframe teniendo en cuenta que la columna `ArticleId` es un identificador de la noticia y por lo tanto no debes usarlo para clasificar. \n",
    "\n",
    "Estudia el tamaño del conjunto de datos y la proporción de noticias que pertenecen a cada una de las categorías. Indica si debemos tenerlo en cuenta de alguna forma al analizar los modelos que construyamos.\n",
    "\n",
    "Muestra un mensaje cualquiera y explica si lo habrías clasificado en la clase correcta tras leerlo.\n",
    "\n",
    "Crea una partición de los datos dejando el 80% para entrenamiento y el 20% restante para test usando la función `train_test_split` de sklearn. "
   ]
  },
  {
   "cell_type": "code",
   "execution_count": 8,
   "metadata": {},
   "outputs": [],
   "source": [
    "import pandas as pd\n",
    "import numpy as np"
   ]
  },
  {
   "cell_type": "code",
   "execution_count": 3,
   "metadata": {},
   "outputs": [
    {
     "data": {
      "text/html": [
       "<div>\n",
       "<style scoped>\n",
       "    .dataframe tbody tr th:only-of-type {\n",
       "        vertical-align: middle;\n",
       "    }\n",
       "\n",
       "    .dataframe tbody tr th {\n",
       "        vertical-align: top;\n",
       "    }\n",
       "\n",
       "    .dataframe thead th {\n",
       "        text-align: right;\n",
       "    }\n",
       "</style>\n",
       "<table border=\"1\" class=\"dataframe\">\n",
       "  <thead>\n",
       "    <tr style=\"text-align: right;\">\n",
       "      <th></th>\n",
       "      <th>Text</th>\n",
       "      <th>Category</th>\n",
       "    </tr>\n",
       "    <tr>\n",
       "      <th>ArticleId</th>\n",
       "      <th></th>\n",
       "      <th></th>\n",
       "    </tr>\n",
       "  </thead>\n",
       "  <tbody>\n",
       "    <tr>\n",
       "      <th>1833</th>\n",
       "      <td>worldcom ex-boss launches defence lawyers defe...</td>\n",
       "      <td>business</td>\n",
       "    </tr>\n",
       "    <tr>\n",
       "      <th>154</th>\n",
       "      <td>german business confidence slides german busin...</td>\n",
       "      <td>business</td>\n",
       "    </tr>\n",
       "    <tr>\n",
       "      <th>1101</th>\n",
       "      <td>bbc poll indicates economic gloom citizens in ...</td>\n",
       "      <td>business</td>\n",
       "    </tr>\n",
       "    <tr>\n",
       "      <th>1976</th>\n",
       "      <td>lifestyle  governs mobile choice  faster  bett...</td>\n",
       "      <td>tech</td>\n",
       "    </tr>\n",
       "    <tr>\n",
       "      <th>917</th>\n",
       "      <td>enron bosses in $168m payout eighteen former e...</td>\n",
       "      <td>business</td>\n",
       "    </tr>\n",
       "    <tr>\n",
       "      <th>...</th>\n",
       "      <td>...</td>\n",
       "      <td>...</td>\n",
       "    </tr>\n",
       "    <tr>\n",
       "      <th>857</th>\n",
       "      <td>double eviction from big brother model caprice...</td>\n",
       "      <td>entertainment</td>\n",
       "    </tr>\n",
       "    <tr>\n",
       "      <th>325</th>\n",
       "      <td>dj double act revamp chart show dj duo jk and ...</td>\n",
       "      <td>entertainment</td>\n",
       "    </tr>\n",
       "    <tr>\n",
       "      <th>1590</th>\n",
       "      <td>weak dollar hits reuters revenues at media gro...</td>\n",
       "      <td>business</td>\n",
       "    </tr>\n",
       "    <tr>\n",
       "      <th>1587</th>\n",
       "      <td>apple ipod family expands market apple has exp...</td>\n",
       "      <td>tech</td>\n",
       "    </tr>\n",
       "    <tr>\n",
       "      <th>538</th>\n",
       "      <td>santy worm makes unwelcome visit thousands of ...</td>\n",
       "      <td>tech</td>\n",
       "    </tr>\n",
       "  </tbody>\n",
       "</table>\n",
       "<p>1490 rows × 2 columns</p>\n",
       "</div>"
      ],
      "text/plain": [
       "                                                        Text       Category\n",
       "ArticleId                                                                  \n",
       "1833       worldcom ex-boss launches defence lawyers defe...       business\n",
       "154        german business confidence slides german busin...       business\n",
       "1101       bbc poll indicates economic gloom citizens in ...       business\n",
       "1976       lifestyle  governs mobile choice  faster  bett...           tech\n",
       "917        enron bosses in $168m payout eighteen former e...       business\n",
       "...                                                      ...            ...\n",
       "857        double eviction from big brother model caprice...  entertainment\n",
       "325        dj double act revamp chart show dj duo jk and ...  entertainment\n",
       "1590       weak dollar hits reuters revenues at media gro...       business\n",
       "1587       apple ipod family expands market apple has exp...           tech\n",
       "538        santy worm makes unwelcome visit thousands of ...           tech\n",
       "\n",
       "[1490 rows x 2 columns]"
      ]
     },
     "execution_count": 3,
     "metadata": {},
     "output_type": "execute_result"
    }
   ],
   "source": [
    "df = pd.read_csv(\"BBC News.csv\", index_col = 0)\n",
    "df"
   ]
  },
  {
   "cell_type": "code",
   "execution_count": 4,
   "metadata": {},
   "outputs": [
    {
     "data": {
      "text/plain": [
       "sport            346\n",
       "business         336\n",
       "politics         274\n",
       "entertainment    273\n",
       "tech             261\n",
       "Name: Category, dtype: int64"
      ]
     },
     "execution_count": 4,
     "metadata": {},
     "output_type": "execute_result"
    }
   ],
   "source": [
    "df['Category'].value_counts()"
   ]
  },
  {
   "cell_type": "code",
   "execution_count": 5,
   "metadata": {},
   "outputs": [
    {
     "data": {
      "text/plain": [
       "<AxesSubplot:ylabel='Category'>"
      ]
     },
     "execution_count": 5,
     "metadata": {},
     "output_type": "execute_result"
    },
    {
     "data": {
      "image/png": "[encoded data removed]",
      "text/plain": [
       "<Figure size 432x288 with 1 Axes>"
      ]
     },
     "metadata": {},
     "output_type": "display_data"
    }
   ],
   "source": [
    "df['Category'].value_counts().plot.pie()"
   ]
  },
  {
   "cell_type": "markdown",
   "metadata": {},
   "source": [
    "Analizando el diagrama de sectores de arriba vemos que hay dos categorías más frecuentes que el resto, sport y business. Sin embargo no es muy amplia la diferencia con el resto de categorías, que están en torno a las 270, mientras que las dos principales oscilan entre 330. \n",
    "Vemos también que la diferencia entre la mas frecuente y la que menos supera ligeramente las 80 noticias. Nos sorprende como en un medio serio como la BBC se hable más de deportes que de política o economía.\n",
    "\n",
    "En este caso no tendremos en cuenta la diferencia de noticias de un tipo u otro ya que, al ser una diferencia pequeña no creemos que afecte a la hora de clasificar textos."
   ]
  },
  {
   "cell_type": "code",
   "execution_count": 6,
   "metadata": {},
   "outputs": [
    {
     "data": {
      "text/plain": [
       "array([['musical treatment for capra film the classic film it s a wonderful life is to be turned into a musical by the producer of the controversial hit show jerry springer - the opera.  frank capra s 1946 movie starring james stewart  is being turned into a £7m musical by producer jon thoday. he is working with steve brown  who wrote the award-winning musical spend spend spend. a spokeswoman said the plans were in the  very early stages   with no cast  opening date or theatre announced.  a series of workshops have been held in london  and on wednesday a cast of singers unveiled the musical to a select group of potential investors. mr thoday said the idea of turning the film into a musical had been an ambition of his for almost 20 years. it s a wonderful life was based on a short story  the greatest gift  by philip van doren stern. mr thoday managed to buy the rights to the story from van doren stern s family in 1999  following mr brown s success with spend spend spend. he later secured the film rights from paramount  enabling them to use the title it s a wonderful life.',\n",
       "        'entertainment']], dtype=object)"
      ]
     },
     "execution_count": 6,
     "metadata": {},
     "output_type": "execute_result"
    }
   ],
   "source": [
    "df_aux = df[35:36]\n",
    "df_aux.values"
   ]
  },
  {
   "cell_type": "markdown",
   "metadata": {},
   "source": [
    "Viendo este mensaje, antes de leer la categoría a la que pertenece, sí hemos logrado anticipar que pertenecía a la categoría de entretenimiento, ya que habla de un gran clásico como \"¡Que bello es vivir!\", protagonizada por el más grande aún James Stewart, actor de películas como \"Vertigo\" y \"El hombre que mató a Liberty Valance\".\n",
    "\n",
    "Vamos a probar otro mensaje al azar."
   ]
  },
  {
   "cell_type": "code",
   "execution_count": 27,
   "metadata": {},
   "outputs": [
    {
     "data": {
      "text/plain": [
       "array([['howard unveils election platform the conservatives would stand up for the  forgotten majority   michael howard pledged as he unveiled the first part of the tory election manifesto.  the tory leader argued there was a mass of people whom he says feel let down by tony blair and who share tory values. in the foreword to the manifesto  he promises to focus on restoring order  trying to lower taxes and giving power back to the people. labour says the document offers only a return to a  failed tory past . the liberal democrats say the conservatives cannot win what they predict will be a three-party contest.  campaigning activity is accelerating ahead of the general election  which is widely tipped for may but could be any time before june 2006. labour on monday postponed a launch of election posters because of the asian tsunami disaster. mr howard published the introduction to the tory manifesto. other chapters will follow in coming weeks.  in a speech in northamptonshire  he said the  forgotten majority  made up the backbone of britain. they were people who were saving for their first home or their retirement  working hard and accepting their responsibilities. he says in the manifesto foreword:  they have been forgotten  neglected and taken for granted by mr blair.   saying britain must change direction  mr howard argues government is too big and cannot continue  down the path of ever rising taxes . he promises to ensure frontline professionals  parents and patients make the key decisions rather than whitehall  bureaucrats . and he says the tories would get a grip on crime  immigration and disorder.  the decline of responsibility and the proliferation of so-called  human rights  have left us in a moral quagmire  unable to get a grip on rising crime and disorder   he says.  mr howard says he will produce a timetable for action so people can hold him to account but on issues like taxation he has so far only published options  not specific plans. mr howard told bbc news:  i m determined to lower taxes but i m also determined not to make any promises i can t keep.  the tories were unveiling material months ahead of the expected election because they needed time to make voters aware of their policies  he said. he was asked if tory support for the government on iraq and identity cards had given the lib dems the chance to portray themselves as the opposition to labour. mr howard argued the only test for his policies was whether they were best for britain. it had nothing to do with putting  clear blue water  between himself and his opponents.  labour s election slogan will be:  britain s working  don t let the tories wreck it again . campaign coordinator alan milburn accused the tories of  launching thatcherism in instalments  while labour helped the hard working majority of families. lib dem president simon hughes said his party had set out its election stance in september.  the liberal democrats will ask the british people for support this year as the party with the policies best able to deliver freedom and fairness and to restore trust   he said.',\n",
       "        'politics']], dtype=object)"
      ]
     },
     "execution_count": 27,
     "metadata": {},
     "output_type": "execute_result"
    }
   ],
   "source": [
    "import random\n",
    "\n",
    "n = random.randint(1, 1490) # 1009\n",
    "df_aux = df[n:n+1]\n",
    "df_aux.values"
   ]
  },
  {
   "cell_type": "markdown",
   "metadata": {},
   "source": [
    "En esta ocasión vemos que claramente se trata de una noticia relacionada con política, al mencionar palabras como: election, conservatives, tony blair, taxes, liberal democrats...\n",
    "Algunas palabras podrían pertenecer también a noticias de economía, como taxes. Sin embargo el amplio números de palabras que pertenecerían exclusivamente a noticias de política supera a aquellas que pueden resultar ambiguas. En este mensaje palabras como election o democrats parecen ser decisivas para determinar la categoría a la que pertenecen."
   ]
  },
  {
   "cell_type": "code",
   "execution_count": 10,
   "metadata": {},
   "outputs": [],
   "source": [
    "from sklearn.model_selection import train_test_split"
   ]
  },
  {
   "cell_type": "code",
   "execution_count": 104,
   "metadata": {},
   "outputs": [
    {
     "data": {
      "text/plain": [
       "(1192, 298)"
      ]
     },
     "execution_count": 104,
     "metadata": {},
     "output_type": "execute_result"
    }
   ],
   "source": [
    "X_train, X_test, y_train, y_test = train_test_split(df['Text'].values, df['Category'].values, test_size=0.2, random_state=RANDOM_STATE)\n",
    "train_len = len(X_train)\n",
    "test_len = len(X_test)\n",
    "(train_len, test_len)"
   ]
  },
  {
   "cell_type": "markdown",
   "metadata": {},
   "source": [
    "Tras la separación de datos para los conjutos de entrenamiento y test, 1192 se usarán para el entrenamiento y los 298 restantes los usaremos para el conjunto de test."
   ]
  },
  {
   "cell_type": "markdown",
   "metadata": {},
   "source": [
    "## 2) Representación basada en bolsa de palabras y frecuencia de aparición\n",
    "\n",
    "La primera vectorización que vamos a usar representará los mensajes usando el modelo de bolsa de palabras, monogramas y la frecuencia de aparición de cada palabra. Usa como _stop words_ las que vienen configuradas por defecto para el inglés.\n",
    "\n",
    "Aplica la vectorización a los conjuntos de mensajes de entrenamiento y test. Muestra algún mensaje tanto en su formato de texto original como en la versión vectorizada. ¿Qué palabras se han eliminado y por qué?\n",
    "\n",
    "Entrena un clasificador Naive Bayes Multinomial y calcula su tasa de aciertos sobre el conjunto de entrenamiento y el conjunto de test. A continuación calcula los valores de precisión, exhaustividad y puntuación F1 para cada una de las clases. Dibuja la matriz de confusión. Analiza los resultados obtenidos.\n",
    "\n",
    "A continuación, entrena un clasificador k-NN con la configuración por defecto y usando la misma vectorización. Analiza los resultados, ¿a qué crees que se deben?"
   ]
  },
  {
   "cell_type": "code",
   "execution_count": 105,
   "metadata": {},
   "outputs": [],
   "source": [
    "from sklearn.feature_extraction.text import CountVectorizer"
   ]
  },
  {
   "cell_type": "code",
   "execution_count": 106,
   "metadata": {},
   "outputs": [],
   "source": [
    "vectorizer = CountVectorizer(stop_words='english', binary=False, ngram_range=(1,1)) "
   ]
  },
  {
   "cell_type": "code",
   "execution_count": 107,
   "metadata": {},
   "outputs": [
    {
     "name": "stdout",
     "output_type": "stream",
     "text": [
      "22249\n"
     ]
    }
   ],
   "source": [
    "train_vector_data=vectorizer.fit_transform(X_train)\n",
    "\n",
    "# Extraemos las palabras de nuestro vector de palabras\n",
    "feature_names = vectorizer.get_feature_names()\n",
    "print(len(feature_names))"
   ]
  },
  {
   "cell_type": "markdown",
   "metadata": {},
   "source": [
    "El vocabulario dispone de 22.249 palabras.\n",
    "A continuación vamos a extraer algunas de esas palabras para ver cuáles son."
   ]
  },
  {
   "cell_type": "code",
   "execution_count": 12,
   "metadata": {},
   "outputs": [
    {
     "name": "stdout",
     "output_type": "stream",
     "text": [
      "  (0, 17428)\t5\n",
      "  (0, 9847)\t1\n",
      "  (0, 21985)\t1\n",
      "  (0, 19287)\t1\n",
      "  (0, 18062)\t1\n",
      "  (0, 12209)\t1\n",
      "  (0, 13424)\t4\n",
      "  (0, 12045)\t2\n",
      "  (0, 22136)\t2\n",
      "  (0, 10467)\t1\n",
      "  (0, 9264)\t1\n",
      "  (0, 17196)\t1\n",
      "  (0, 8174)\t14\n",
      "  (0, 13403)\t1\n",
      "  (0, 2361)\t7\n",
      "  (0, 2853)\t10\n",
      "  (0, 1248)\t3\n",
      "  (0, 13308)\t1\n",
      "  (0, 6655)\t1\n",
      "  (0, 9123)\t3\n",
      "  (0, 14908)\t1\n",
      "  (0, 15605)\t1\n",
      "  (0, 21470)\t1\n",
      "  (0, 6678)\t1\n",
      "  (0, 21858)\t2\n",
      "  :\t:\n",
      "  (0, 3974)\t1\n",
      "  (0, 9365)\t1\n",
      "  (0, 5480)\t1\n",
      "  (0, 3296)\t2\n",
      "  (0, 16841)\t1\n",
      "  (0, 7845)\t1\n",
      "  (0, 18986)\t1\n",
      "  (0, 1233)\t1\n",
      "  (0, 3946)\t1\n",
      "  (0, 12685)\t1\n",
      "  (0, 7411)\t1\n",
      "  (0, 2358)\t1\n",
      "  (0, 11847)\t1\n",
      "  (0, 5780)\t2\n",
      "  (0, 18144)\t1\n",
      "  (0, 9608)\t1\n",
      "  (0, 15362)\t1\n",
      "  (0, 15584)\t1\n",
      "  (0, 2377)\t1\n",
      "  (0, 12271)\t1\n",
      "  (0, 18470)\t1\n",
      "  (0, 20579)\t1\n",
      "  (0, 4219)\t1\n",
      "  (0, 21886)\t1\n",
      "  (0, 10060)\t1\n"
     ]
    }
   ],
   "source": [
    "print(train_vector_data[10])"
   ]
  },
  {
   "cell_type": "code",
   "execution_count": 13,
   "metadata": {},
   "outputs": [
    {
     "name": "stdout",
     "output_type": "stream",
     "text": [
      "['00', '000', '0001', '000bn', '000m', '000th', '001', '001and', '001st', '0051', '01', '0100', '0130', '028', '03', '033', '04', '0400', '04bn', '04secs', '05', '050505', '0530gmt', '056', '05bn', '05m', '06', '069', '07', '070', '0710', '072', '0730', '08', '080', '0800', '0845', '0870', '088', '09', '0900', '093', '0950', '09bn', '09secs', '10', '100', '1000m', '100bn', '100m']\n",
      "['consecutive', 'consecutively', 'conseil', 'consensus', 'consent', 'consenus', 'consequences', 'consequently', 'conservationists', 'conservative', 'conservatively', 'conservatives', 'conserve', 'consider', 'considerable', 'considerably', 'consideration', 'considerations', 'considered', 'considering']\n",
      "['zillion', 'zimbabwe', 'zinc', 'zinedine', 'ziyi', 'zodiac', 'zoe', 'zoellick', 'zola', 'zombie', 'zombies', 'zone', 'zonealarm', 'zones', 'zoom', 'zooms', 'zooropa', 'zurich', 'zutons', 'zvonareva']\n"
     ]
    }
   ],
   "source": [
    "print(feature_names[:50])\n",
    "print(feature_names[5000:5020])\n",
    "print(feature_names[-20:])"
   ]
  },
  {
   "cell_type": "markdown",
   "metadata": {},
   "source": [
    "Vemos que en las primeras 50 palabras, por ejemplo, hay algunos valores númericos extraños como \"000m\" o \"0001\", que son considerados como ruido. Aunque sean pocas palabras, las eliminaremos para que no haya interferencia en el análisis. "
   ]
  },
  {
   "cell_type": "code",
   "execution_count": 108,
   "metadata": {},
   "outputs": [
    {
     "name": "stdout",
     "output_type": "stream",
     "text": [
      "21183\n"
     ]
    }
   ],
   "source": [
    "vectorizer = CountVectorizer(stop_words='english', binary=False, ngram_range=(1,1), token_pattern=r'(?u)\\b[A-Za-z]+\\b') \n",
    "\n",
    "train_vector_data=vectorizer.fit_transform(X_train)\n",
    "\n",
    "feature_names = vectorizer.get_feature_names()\n",
    "print(len(feature_names))"
   ]
  },
  {
   "cell_type": "markdown",
   "metadata": {},
   "source": [
    "Se han descartado unas 1000 palabras, que no son muchas en comparación con las que había originalmente (5%), por lo que no habrá mucha variación entre los datos originales y su versión vectorizada y reducida. "
   ]
  },
  {
   "cell_type": "code",
   "execution_count": 15,
   "metadata": {},
   "outputs": [
    {
     "name": "stdout",
     "output_type": "stream",
     "text": [
      "['aa', 'aaa', 'aaas', 'aac', 'aadc', 'aaliyah', 'aaltra', 'aamir', 'aaron', 'abacus', 'abandon', 'abandoned', 'abandoning', 'abandonment', 'abating', 'abba', 'abbas', 'abbasi', 'abbott', 'abbreviated', 'abc', 'abdellatif', 'abdication', 'abdomen', 'abdominal', 'abducted', 'abduction', 'abdullah', 'abdullatif', 'abebe', 'aberdeen', 'aberration', 'aberystwyth', 'abeyie', 'abhorrent', 'abide', 'abided', 'abiding', 'abigail', 'abilities', 'ability', 'abish', 'able', 'abn', 'abnormal', 'abnormality', 'abolish', 'abolishing', 'abolition', 'aborted']\n",
      "['dems', 'den', 'dench', 'denial', 'denials', 'denied', 'denies', 'denis', 'denise', 'denmark', 'dennis', 'denominated', 'densely', 'dent', 'dental', 'dented', 'deny', 'denying', 'denzel', 'deodorant']\n",
      "['zillion', 'zimbabwe', 'zinc', 'zinedine', 'ziyi', 'zodiac', 'zoe', 'zoellick', 'zola', 'zombie', 'zombies', 'zone', 'zonealarm', 'zones', 'zoom', 'zooms', 'zooropa', 'zurich', 'zutons', 'zvonareva']\n"
     ]
    }
   ],
   "source": [
    "print(feature_names[:50])\n",
    "print(feature_names[5000:5020])\n",
    "print(feature_names[-20:])"
   ]
  },
  {
   "cell_type": "markdown",
   "metadata": {},
   "source": [
    "Vemos que los números que hemos mencionado antes ya no aparecen, aunque creemos que palabras como \"04secs\", por ejemplo, tienen  sentido y aún así se han borrado. En el caso contrario, vemos que palabras como por ejemplo \"aaa\" se han mantenido y carecen de sentido.\n",
    "\n",
    "Comprobamos que se han eliminado las palabras alfanuméricas, ya que, salvo algunas excepciones, provocan ruido y se han mantenido las palabras compuestas solo por letras, ya que apenas algunas de ellas no tienen sentido. "
   ]
  },
  {
   "cell_type": "markdown",
   "metadata": {},
   "source": [
    "A continuación mostramos un mensaje en su formato original y en su versión vectorizada."
   ]
  },
  {
   "cell_type": "code",
   "execution_count": 109,
   "metadata": {},
   "outputs": [],
   "source": [
    "import numpy.ma as ma\n",
    "\n",
    "def write_terms (feature_names, data, vector_data, index):\n",
    "    '''\n",
    "    Escribe los términos presentes en un mensaje representado como bolsa de palabras.\n",
    "    \n",
    "    - feature_names: terminos usados para vectorizar\n",
    "    - data: lista de mensajes original (si data==None no se muestra el mensaje original)\n",
    "    - vector_data: matriz (dispersa) de mensaje vectorizados\n",
    "    - index: posición del mensaje a mostrar\n",
    "    '''\n",
    "    #máscara para seleccionar sólo el mensaje en posición index\n",
    "    mask=vector_data[index,:]>0\n",
    "    \n",
    "    # términos que aparecen en ese mensaje vectorizado\n",
    "    terminos = ma.array(feature_names, mask = ~(mask[0].toarray()))\n",
    "    \n",
    "    # mostrar mensaje original\n",
    "    if data is not None:\n",
    "        print('Mensaje', index, ':', data[index], '\\n')\n",
    "    \n",
    "    # mostrar términos que aparecen en el mensaje vectorizado\n",
    "    print('Mensaje', index, 'vectorizado:', terminos.compressed(),'\\n')"
   ]
  },
  {
   "cell_type": "code",
   "execution_count": 16,
   "metadata": {},
   "outputs": [
    {
     "name": "stdout",
     "output_type": "stream",
     "text": [
      "Mensaje 10 : vera drake s bafta triumph hope at the bafta film awards on saturday night  there is the prospect that a home-grown movie could walk off with a clutch of trophies.  vera drake  mike leigh s tale about a 1950s backstreet abortionist  is nominated in 11 categories. these include best film  best director and best actress shortlist for imelda staunton who plays the eponymous character. the film has spent months being lauded with prizes  from the venice film festival to five awards from the london critics  circle on wednesday night.  the baftas has a tradition of honouring british cinema  and this year vera drake is the obvious candidate to be heaped with praise. empire magazine s reviews editor dan jolin said the film had  a very good chance  of doing well on saturday  predicting that it would collect five or six awards.  i don t think it s going to do a lord of the rings-style sweep  but imelda staunton is a shoo-in for best actress   he said.   a best director prize for mike leigh and best british film are also likely and it could steal some awards from heavily-nominated competitors the aviator and finding neverland.  mr jolin tipped another contender - most likely the aviator - to walk away with the bafta for best film  and added that finding neverland had been lavished with nominations but not trophies. strong oscar contenders million dollar baby and sideways did not figure in the bafta nominations  giving vera drake greater potential to walk away with the big prizes.   there is a sense that this film is ours and we should slap our own guys on the back. out of all the films in the running for the baftas  vera drake is the true blue british one.    if mike leigh is going to win awards for anything  it should be vera drake at this year s baftas   said mr jolin  adding that the film was probably his most technically accomplished and lavish work yet. mr jolin also tipped phil davis for a best supporting actor prize for his role in vera drake but felt that heather craney could be outdone by kate winslet or natalie portman in the supporting actress category.  if there is anywhere where this film is going to win  it will be at the baftas   he said.  the guardian s film critic peter bradshaw felt that there  might well be  a sweep of awards for vera drake on saturday night.  i hope that bafta voters will respond to the extremely high standard of acting from the whole cast of the film. if bafta can t do so  what hope is there   he said. mr bradshaw felt that mike leigh s  masterpiece  was entitled to the best film award - leaving dead man s shoes  harry potter and the prisoner of azkaban  my summer of love and shaun of the dead to slug it out for the best british film trophy.  i will be cheering if vera drake wins a whole host of awards   he added. \n",
      "\n",
      "Mensaje 10 vectorizado: ['abortionist' 'accomplished' 'acting' 'actor' 'actress' 'added' 'adding'\n",
      " 'aviator' 'award' 'awards' 'away' 'azkaban' 'baby' 'backstreet' 'bafta'\n",
      " 'baftas' 'best' 'big' 'blue' 'bradshaw' 'british' 'candidate' 'cast'\n",
      " 'categories' 'category' 'chance' 'character' 'cheering' 'cinema' 'circle'\n",
      " 'clutch' 'collect' 'competitors' 'contender' 'contenders' 'craney'\n",
      " 'critic' 'critics' 'dan' 'davis' 'dead' 'did' 'director' 'doing' 'dollar'\n",
      " 'don' 'drake' 'editor' 'empire' 'entitled' 'eponymous' 'extremely' 'felt'\n",
      " 'festival' 'figure' 'film' 'films' 'finding' 'giving' 'going' 'good'\n",
      " 'greater' 'grown' 'guardian' 'guys' 'harry' 'heaped' 'heather' 'heavily'\n",
      " 'high' 'home' 'honouring' 'hope' 'host' 'imelda' 'include' 'jolin' 'kate'\n",
      " 'lauded' 'lavish' 'lavished' 'leaving' 'leigh' 'likely' 'london' 'lord'\n",
      " 'love' 'magazine' 'man' 'masterpiece' 'mike' 'million' 'months' 'movie'\n",
      " 'mr' 'natalie' 'neverland' 'night' 'nominated' 'nominations' 'obvious'\n",
      " 'oscar' 'outdone' 'peter' 'phil' 'plays' 'portman' 'potential' 'potter'\n",
      " 'praise' 'predicting' 'prisoner' 'prize' 'prizes' 'probably' 'prospect'\n",
      " 'respond' 'reviews' 'rings' 'role' 'running' 's' 'said' 'saturday'\n",
      " 'sense' 'shaun' 'shoes' 'shoo' 'shortlist' 'sideways' 'slap' 'slug'\n",
      " 'spent' 'standard' 'staunton' 'steal' 'strong' 'style' 'summer'\n",
      " 'supporting' 'sweep' 't' 'tale' 'technically' 'think' 'tipped'\n",
      " 'tradition' 'triumph' 'trophies' 'trophy' 'true' 'venice' 'vera' 'voters'\n",
      " 'walk' 'wednesday' 'win' 'wins' 'winslet' 'work' 'year'] \n",
      "\n"
     ]
    }
   ],
   "source": [
    "write_terms(feature_names, X_train, train_vector_data, 10)"
   ]
  },
  {
   "cell_type": "markdown",
   "metadata": {},
   "source": [
    "Vemos que se han elimidado palabras con números, como \"1950s\". También han desaparecido preposiciones \"on\" o \"in\", y palabras cortas como \"if\", \"is\" o \"i\". \n",
    "\n",
    "El primer caso vemos que coincide con lo que ya explicamos arriba de eliminar números, ya que podían causar ruido. En cuanto al resto, vemos que se han eliminado palabras de una o 2 letras que empiezan por vocal, ya que es más probable que causen ruido, aunque en este caso no sería así. Vemos también que este clase de palabras (de una o 2 letras) se han mantenido si empiezan por consonante, como es el caso de \"t\", \"mr\" o \"s\"."
   ]
  },
  {
   "cell_type": "code",
   "execution_count": 17,
   "metadata": {},
   "outputs": [],
   "source": [
    "from sklearn.naive_bayes import MultinomialNB"
   ]
  },
  {
   "cell_type": "code",
   "execution_count": 18,
   "metadata": {},
   "outputs": [
    {
     "data": {
      "text/plain": [
       "1192"
      ]
     },
     "execution_count": 18,
     "metadata": {},
     "output_type": "execute_result"
    }
   ],
   "source": [
    "len(y_train)"
   ]
  },
  {
   "cell_type": "code",
   "execution_count": 110,
   "metadata": {},
   "outputs": [],
   "source": [
    "test_vector_data=vectorizer.transform(X_test)\n"
   ]
  },
  {
   "cell_type": "code",
   "execution_count": 111,
   "metadata": {},
   "outputs": [
    {
     "name": "stdout",
     "output_type": "stream",
     "text": [
      "Multinomial Naive Bayes, porcentaje de aciertos en entrenamiento: 0.99748322147651\n",
      "Multinomial Naive Bayes, porcentaje de aciertos en test: 0.9765100671140939\n"
     ]
    }
   ],
   "source": [
    "mnb_classifier = MultinomialNB()\n",
    "\n",
    "mnb_classifier.fit(train_vector_data, y_train)\n",
    "\n",
    "mnb_train_predictions = mnb_classifier.predict(train_vector_data)\n",
    "mnb_test_predictions = mnb_classifier.predict(test_vector_data)\n",
    "\n",
    "print(\"Multinomial Naive Bayes, porcentaje de aciertos en entrenamiento:\", np.mean(mnb_train_predictions == y_train))\n",
    "print(\"Multinomial Naive Bayes, porcentaje de aciertos en test:\", np.mean(mnb_test_predictions == y_test))"
   ]
  },
  {
   "cell_type": "markdown",
   "metadata": {},
   "source": [
    "Vemos con los valores resultantes de la celda anterior que nuestro modelo no ha sobreaprendido, ya que la diferencia del porcentaje de aciertos entre el conjunto de entrenamiento y el conjunto de test es de centésimas, y ambos muy cercanos a uno. "
   ]
  },
  {
   "cell_type": "code",
   "execution_count": 112,
   "metadata": {},
   "outputs": [],
   "source": [
    "from sklearn.metrics import classification_report, confusion_matrix"
   ]
  },
  {
   "cell_type": "code",
   "execution_count": 113,
   "metadata": {},
   "outputs": [],
   "source": [
    "target_names = ['sport', 'business', 'politics', 'entertainment', 'tech']"
   ]
  },
  {
   "cell_type": "code",
   "execution_count": 114,
   "metadata": {},
   "outputs": [
    {
     "name": "stdout",
     "output_type": "stream",
     "text": [
      "               precision    recall  f1-score   support\n",
      "\n",
      "        sport       0.96      1.00      0.98        70\n",
      "     business       1.00      0.98      0.99        50\n",
      "     politics       0.95      0.98      0.96        56\n",
      "entertainment       1.00      0.97      0.99        78\n",
      "         tech       0.98      0.93      0.95        44\n",
      "\n",
      "     accuracy                           0.98       298\n",
      "    macro avg       0.98      0.97      0.97       298\n",
      " weighted avg       0.98      0.98      0.98       298\n",
      "\n"
     ]
    }
   ],
   "source": [
    "classifier=mnb_classifier\n",
    "predictions = mnb_test_predictions\n",
    "\n",
    "print(classification_report(y_test, predictions, target_names=target_names))"
   ]
  },
  {
   "cell_type": "code",
   "execution_count": 115,
   "metadata": {},
   "outputs": [
    {
     "data": {
      "text/plain": [
       "(array([0.5, 1.5, 2.5, 3.5, 4.5]),\n",
       " [Text(0.5, 0, 'sport'),\n",
       "  Text(1.5, 0, 'business'),\n",
       "  Text(2.5, 0, 'politics'),\n",
       "  Text(3.5, 0, 'entertainment'),\n",
       "  Text(4.5, 0, 'tech')])"
      ]
     },
     "execution_count": 115,
     "metadata": {},
     "output_type": "execute_result"
    },
    {
     "data": {
      "image/png": "[encoded data removed]",
      "text/plain": [
       "<Figure size 1080x720 with 2 Axes>"
      ]
     },
     "metadata": {
      "needs_background": "light"
     },
     "output_type": "display_data"
    }
   ],
   "source": [
    "%matplotlib inline\n",
    "import seaborn as sn\n",
    "import matplotlib.pyplot as plt\n",
    "\n",
    "conf_matrix = confusion_matrix(y_test, predictions)\n",
    "conf_matrix_df = pd.DataFrame(conf_matrix, index=target_names, columns=target_names)\n",
    "\n",
    "plt.figure(figsize=(15, 10))\n",
    "sn.heatmap(conf_matrix_df, annot=True, vmin=0, vmax=conf_matrix.max(), fmt='d', cmap=\"YlGnBu\")\n",
    "plt.yticks(rotation=0)\n",
    "plt.xticks(rotation=90)"
   ]
  },
  {
   "cell_type": "markdown",
   "metadata": {},
   "source": [
    "En la tabla de arriba podemos ver como la clasificación por Naive Bayer tiene una precisión media de 0.98 y un recall medio de 0.97. Vemos también que la precisión es menor en políticas y deportes, y tiene valor 1 en entretenimiento y negocios. En cuanto al recall,  vemos que alcanza valor 1 en deportes. El valor mínimo se distancia de los obtenidos hasta ahora, siendo 0.93 para las noticias de temática tecnológica. Para poder ver que noticias identificaría mejor, estudiamos el valor f1, que engloba los 2 valores ya estudiados. En este valor vemos que los valores máximos se corresponden a las noticias de negocios y entretenimiento, y el mínimo, a tecnología. \n",
    "\n",
    "Este análisis nos da a entender que las noticias mejor reconocidas son las que tienen mayores valores f1. En este caso son las de negocios y entretenimiento, seguidas por deportes, políticas y, por último, tecnología. \n",
    "\n",
    "Para ver en cómo se ha equivocado este clasificador vamos a estudiar la matriz de confusión. \n",
    "\n",
    "En la matriz, vemos como efectivamente las noticias mejor clasificadas son negocios y entretenimiento, ya que todas las que el clasificador ha predicho que son de ese tipo lo son. Vemos también que solo unas pocas (1 en business y 2 en entretenimiento) han sido predichas como algo distinto a lo que son. En el caso de business, ha sido confundida con política, lo cual tiene sentido ya que ambos son temas relacionados y pueden tener palabras en común, como las intenciones de un político frente a estos temas o como estas intenciones pueden influir. En el caso de entretenimiento, se han confunddido con política y deporte. Este segundo caso tiene sentido ya que se puede haber películas que traten estos tema o deportistas de los cuales se hable por alguna razón ajena al deporte.\n",
    "\n",
    "En cuanto a deportes, el tercer tipo mejor clasificado, vemos como todas la noticias relativas a este tema han sido detectadas. Sin embargo, se han detectado como deportes noticias entretenimiento y tecnología. Como ya dijimos antes, la confusión entre deporte y entretenimiento está justificada ya que se puede considerar a los deportitas como personas de las que hablar en la sección de entretenimiento (por su participación en una serie, asistencia a premios u otros). En cuanto a tenología, es posible que se esté hablando de algún campeonato de videojuegos. En este caso, palabras como \"competición\", \"ganador\" o \"equipos\" pueden haber causado esta confusión. \n",
    "\n",
    "Podemos ver que en las 2 categorías restantes, el clasificador se ha equivocado de las 2 formas descritas anteriormente. Analizaremos ahora las noticias peor clasificadas, las de tecnología. Primero destacaremos que el clasificador solo ha clasificado como tecnología una noticia que pertenecía a otra categoría, la de política. Esto probablemente es debido a que esta noticia estaría hablando sobre intenciones políticas a cerca de la tecnología. Sin embargo, ha habido 3 noticias sobre tecnología que el clasificador a clasificado como otra cosa: 2 de deportes y una de políticas. Como acabamos de comentar, es posible que se estuviera hablando sobre algún evento político entorno a un evento tecnológico y haya podido surgir la confusión. En cuanto a deportes, ya hemos analizado este caso en el párrafo anterior. \n",
    "\n",
    "Los resultado y las confusiones han sido los esperados, aunque creíamos que habría más confusión entre las noticias de business y politics. Ahora vemos que esto se puede deber a que, al estar tan relacionados estos 2 temas, el clasificador habrá tenido más ejemplos para poder aprender a diferenciarlos.\n",
    "\n",
    "En conclusión, creemos que este método de aprendizaje es bastante bueno y, al clasificar, es capaz de hacerlo de forma muy acertada. "
   ]
  },
  {
   "cell_type": "code",
   "execution_count": 116,
   "metadata": {},
   "outputs": [],
   "source": [
    "from sklearn import neighbors"
   ]
  },
  {
   "cell_type": "code",
   "execution_count": 117,
   "metadata": {},
   "outputs": [
    {
     "name": "stdout",
     "output_type": "stream",
     "text": [
      "k-NN, porcentaje de aciertos en entrenamiento: 0.6317114093959731\n",
      "k-NN, porcentaje de aciertos en test: 0.5906040268456376\n"
     ]
    }
   ],
   "source": [
    "knn_classifier = neighbors.KNeighborsClassifier()\n",
    "knn_classifier.fit(train_vector_data, y_train)\n",
    "\n",
    "knn_train_predictions = knn_classifier.predict(train_vector_data)\n",
    "knn_test_predictions = knn_classifier.predict(test_vector_data)\n",
    "\n",
    "print(\"k-NN, porcentaje de aciertos en entrenamiento:\", np.mean(knn_train_predictions == y_train))\n",
    "print(\"k-NN, porcentaje de aciertos en test:\", np.mean(knn_test_predictions == y_test))"
   ]
  },
  {
   "cell_type": "markdown",
   "metadata": {},
   "source": [
    "Al entrenar el clasificador mediante knn podemos ver como los porcentajes de aciertos descienden considerablemente (al 60%), lo que ya nos hace poder afirmar que este clasificador será peor que el anterior. "
   ]
  },
  {
   "cell_type": "code",
   "execution_count": 118,
   "metadata": {},
   "outputs": [
    {
     "name": "stdout",
     "output_type": "stream",
     "text": [
      "               precision    recall  f1-score   support\n",
      "\n",
      "        sport       0.95      0.51      0.67        70\n",
      "     business       0.86      0.36      0.51        50\n",
      "     politics       1.00      0.55      0.71        56\n",
      "entertainment       0.40      1.00      0.57        78\n",
      "         tech       1.00      0.30      0.46        44\n",
      "\n",
      "     accuracy                           0.59       298\n",
      "    macro avg       0.84      0.54      0.58       298\n",
      " weighted avg       0.81      0.59      0.59       298\n",
      "\n"
     ]
    }
   ],
   "source": [
    "classifier2=knn_classifier\n",
    "predictions2 = knn_test_predictions\n",
    "\n",
    "print(classification_report(y_test, predictions2, target_names=target_names))"
   ]
  },
  {
   "cell_type": "code",
   "execution_count": 119,
   "metadata": {},
   "outputs": [
    {
     "data": {
      "text/plain": [
       "(array([0.5, 1.5, 2.5, 3.5, 4.5]),\n",
       " [Text(0.5, 0, 'sport'),\n",
       "  Text(1.5, 0, 'business'),\n",
       "  Text(2.5, 0, 'politics'),\n",
       "  Text(3.5, 0, 'entertainment'),\n",
       "  Text(4.5, 0, 'tech')])"
      ]
     },
     "execution_count": 119,
     "metadata": {},
     "output_type": "execute_result"
    },
    {
     "data": {
      "image/png": "[encoded data removed]",
      "text/plain": [
       "<Figure size 1080x720 with 2 Axes>"
      ]
     },
     "metadata": {
      "needs_background": "light"
     },
     "output_type": "display_data"
    }
   ],
   "source": [
    "%matplotlib inline\n",
    "\n",
    "conf_matrix2 = confusion_matrix(y_test, predictions2)\n",
    "conf_matrix_df2 = pd.DataFrame(conf_matrix2, index=target_names, columns=target_names)\n",
    "\n",
    "plt.figure(figsize=(15, 10))\n",
    "sn.heatmap(conf_matrix_df2, annot=True, vmin=0, vmax=conf_matrix2.max(), fmt='d', cmap=\"YlGnBu\")\n",
    "plt.yticks(rotation=0)\n",
    "plt.xticks(rotation=90)"
   ]
  },
  {
   "cell_type": "markdown",
   "metadata": {},
   "source": [
    "Tras entrenar nuestro clasificador knn, podemos ver que ha empeorado considerablemente. \n",
    "\n",
    "Si analizamos la tabla de arriba, vemos que la precisión se sigue manteniendo alta en general, auque ha descendido con respecto al clasificador entrenado con Naive Bayes, es especial las noticias sobre tecnología, que se encontraban con un 100% de aciertos frente al 40% de ahora. Aún así, vemos que todos los valores de precisión salvo este se mantienen por encima del 85%, llegando al 100% en 2 casos: politicas y tecnología. En ambos el valor de precisión ha subido, mientras que en los otros 3 ha bajado. La media de precisión también ha bajado, está en torno al  84%. en cuanto a la exahustividad, los valores han descendido bastante en comparación con los obtenidos con nuestro primer clasificador. La media es de un 54% y vemos que solo se alcanza el 100% en uno de los tipos (entretenimiento). El resto están entre el 30% y el 50%. \n",
    "\n",
    "Al hacer la comparación general con el f1-score (que da más importancia al recall), vemos que el mejor clasificado es política, seguido de deportes, entretenimiento, negocio y, por último, tecnología. Vemos que el orden es el inverso al conseguido por el otro clasificado, a excepción de tecnología, que es el peor en ambos casos. Esto nos afirma que las noticias que más cuenta clasificar son las de tecnología.\n",
    "\n",
    "Al ver la matriz, vemos que los fallos se producen principalmente porque se clasifican muchas noticias como entretenimiento cuando en realidad no lo son. Quitando estos fallos, el resto son muy pequeños. El fallo más destacable es el de business, donde se han clasificado casi el dobla de noticias como entretenimiento que como business.\n",
    "\n",
    "Probablemente este fallo se debe a que, mientrass que el Naive Bayes clasifica según una probabilidad de pertenecer a un tipo u otro, el knn lo hace según el tipo de los k vecinos más cercanos, lo que hace que sea menos preciso y que los fallos se vayan acumulando."
   ]
  },
  {
   "cell_type": "markdown",
   "metadata": {},
   "source": [
    "## 3) Representación basada en word-embeddings\n",
    "\n",
    "La segunda vectorización que vamos a usar representará los mensajes usando word-embeddings. Cada documento se representará como el vector que resulta de promediar los embeddings de cada una de sus palabras. Al igual que en el apartado anterior, usaremos monogramas y las _stop words_ que vienen configuradas por defecto para el inglés. Recuerda usar como vocabulario para vectorizar el vocabulario del fichero con las word-embeddings. \n",
    "\n",
    "Entrena un clasificador Naive Bayes Gaussiano (el Multinomial no admite valores negativos que sí aparecen en los embeddings). Analiza el error por clase y dibuja la matriz de confusión.\n",
    "\n",
    "Entrena otro clasificador kNN con la nueva vectorización y la configuración por defecto y analiza su error."
   ]
  },
  {
   "cell_type": "code",
   "execution_count": 67,
   "metadata": {},
   "outputs": [],
   "source": [
    "from gensim.scripts.glove2word2vec import glove2word2vec\n",
    "from gensim.models import KeyedVectors\n",
    "glove_file = \"glove.6b.50d.txt\"\n",
    "word2vec_file = 'glove.6B.50d.txt.word2vec'\n",
    "#model = KeyedVectors.load_word2vec_format(glove_file, binary=False)\n",
    "glove2word2vec(glove_file, word2vec_file)\n",
    "model = KeyedVectors.load_word2vec_format(word2vec_file, binary=False)"
   ]
  },
  {
   "cell_type": "code",
   "execution_count": 129,
   "metadata": {},
   "outputs": [
    {
     "name": "stdout",
     "output_type": "stream",
     "text": [
      "[('harry', 0.7826188206672668), ('rowling', 0.7020739316940308), ('creator', 0.6936055421829224), ('book', 0.6928137540817261), ('trilogy', 0.6888231635093689)]\n"
     ]
    }
   ],
   "source": [
    "x = model.most_similar(positive=['potter'], topn=5)\n",
    "print(x)"
   ]
  },
  {
   "cell_type": "code",
   "execution_count": 130,
   "metadata": {},
   "outputs": [
    {
     "name": "stdout",
     "output_type": "stream",
     "text": [
      "[('ingmar', 0.8513264656066895), ('screenwriter', 0.7241118550300598), ('playwright', 0.7163271307945251), ('demme', 0.7124931216239929), ('filmmaker', 0.7065269351005554)]\n"
     ]
    }
   ],
   "source": [
    "x = model.most_similar(positive=['bergman'], topn=5)\n",
    "print(x)"
   ]
  },
  {
   "cell_type": "code",
   "execution_count": 68,
   "metadata": {},
   "outputs": [],
   "source": [
    "we_vocabulary = list(model.vocab.keys())\n",
    "vectorizer2 = CountVectorizer(vocabulary = we_vocabulary, binary = False, stop_words='english', token_pattern=r'(?u)\\b[A-Za-z]+\\b')"
   ]
  },
  {
   "cell_type": "code",
   "execution_count": 145,
   "metadata": {},
   "outputs": [],
   "source": [
    "train_vector_data2 = vectorizer.fit_transform(X_train)\n",
    "test_vector_data2=vectorizer.transform(X_test)"
   ]
  },
  {
   "cell_type": "code",
   "execution_count": 69,
   "metadata": {},
   "outputs": [],
   "source": [
    "from sklearn.naive_bayes import GaussianNB\n",
    "\n",
    "gnb_classifier = GaussianNB()\n",
    "\n",
    "chunk_size=100\n",
    "num_rows=len(y_train)\n",
    "\n",
    "for i in range(0, (num_rows//chunk_size)):\n",
    "    train_chunk = train_vector_data2[i*chunk_size : (i+1)*chunk_size,:].toarray()\n",
    "    target_chunk = y_train[i*chunk_size : (i+1)*chunk_size]\n",
    "    gnb_classifier.partial_fit(train_chunk, target_chunk, classes=np.unique(y_train))"
   ]
  },
  {
   "cell_type": "code",
   "execution_count": 70,
   "metadata": {
    "scrolled": false
   },
   "outputs": [
    {
     "name": "stdout",
     "output_type": "stream",
     "text": [
      "Gaussian Naive Bayes, porcentaje de error en entrenamiento: 0.07718120805369133\n",
      "Gaussian Naive Bayes, porcentaje de error en test: 0.3791946308724832\n"
     ]
    }
   ],
   "source": [
    "# Creamos los arrays antes para ser más eficiente (crea el array grande y luego lo rellena)\n",
    "gnb_train_predictions=np.zeros_like(y_train)\n",
    "gnb_test_predictions=np.zeros_like(y_test)\n",
    "\n",
    "for i in range(0, (num_rows//chunk_size)):\n",
    "    train_chunk = train_vector_data2[i*chunk_size : (i+1)*chunk_size,:].toarray()\n",
    "    gnb_train_predictions[i*chunk_size : (i+1)*chunk_size] = gnb_classifier.predict(train_chunk)\n",
    "    \n",
    "num_rows=len(y_test)\n",
    "for i in range(0, (num_rows//chunk_size)):\n",
    "    test_chunk = test_vector_data2[i*chunk_size : (i+1)*chunk_size,:].toarray()\n",
    "    gnb_test_predictions[i*chunk_size : (i+1)*chunk_size] = gnb_classifier.predict(test_chunk)\n",
    "\n",
    "print(\"Gaussian Naive Bayes, porcentaje de error en entrenamiento:\", 1 - np.mean(gnb_train_predictions == y_train))\n",
    "print(\"Gaussian Naive Bayes, porcentaje de error en test:\", 1 - np.mean(gnb_test_predictions == y_test))"
   ]
  },
  {
   "cell_type": "markdown",
   "metadata": {},
   "source": [
    "Vemos como el porcentaje de error en entrenamiento es muy bajo, apenas llega al 1%, mientras que el de teste sube casi al 40%. Si comparamos estos con el clasificador de bolsa de palabras entrenado con Naive Bayes, nos hace pensar que probablemente será peor, aunque no mucho."
   ]
  },
  {
   "cell_type": "code",
   "execution_count": 71,
   "metadata": {},
   "outputs": [],
   "source": [
    "gnb_train_predictions2 = gnb_classifier.predict(train_vector_data2.toarray())\n",
    "gnb_test_predictions2 = gnb_classifier.predict(test_vector_data2.toarray())"
   ]
  },
  {
   "cell_type": "code",
   "execution_count": 72,
   "metadata": {},
   "outputs": [
    {
     "name": "stdout",
     "output_type": "stream",
     "text": [
      "               precision    recall  f1-score   support\n",
      "\n",
      "        sport       0.96      0.91      0.93        70\n",
      "     business       0.96      0.92      0.94        50\n",
      "     politics       0.87      0.98      0.92        56\n",
      "entertainment       0.97      0.92      0.95        78\n",
      "         tech       0.89      0.93      0.91        44\n",
      "\n",
      "     accuracy                           0.93       298\n",
      "    macro avg       0.93      0.93      0.93       298\n",
      " weighted avg       0.94      0.93      0.93       298\n",
      "\n"
     ]
    }
   ],
   "source": [
    "print(classification_report(y_test, gnb_test_predictions2, target_names=target_names))"
   ]
  },
  {
   "cell_type": "code",
   "execution_count": 73,
   "metadata": {},
   "outputs": [
    {
     "data": {
      "text/plain": [
       "(array([0.5, 1.5, 2.5, 3.5, 4.5]),\n",
       " [Text(0.5, 0, 'sport'),\n",
       "  Text(1.5, 0, 'business'),\n",
       "  Text(2.5, 0, 'politics'),\n",
       "  Text(3.5, 0, 'entertainment'),\n",
       "  Text(4.5, 0, 'tech')])"
      ]
     },
     "execution_count": 73,
     "metadata": {},
     "output_type": "execute_result"
    },
    {
     "data": {
      "image/png": "[encoded data removed]",
      "text/plain": [
       "<Figure size 1080x720 with 2 Axes>"
      ]
     },
     "metadata": {
      "needs_background": "light"
     },
     "output_type": "display_data"
    }
   ],
   "source": [
    "%matplotlib inline\n",
    "\n",
    "classifier3=gnb_classifier\n",
    "#predictions3 = gnb_test_predictions\n",
    "\n",
    "conf_matrix3 = confusion_matrix(y_test, gnb_test_predictions2)\n",
    "conf_matrix_df3 = pd.DataFrame(conf_matrix3, index=target_names, columns=target_names)\n",
    "\n",
    "plt.figure(figsize=(15, 10))\n",
    "sn.heatmap(conf_matrix_df3, annot=True, vmin=0, vmax=conf_matrix3.max(), fmt='d', cmap=\"YlGnBu\")\n",
    "plt.yticks(rotation=0)\n",
    "plt.xticks(rotation=90)"
   ]
  },
  {
   "cell_type": "markdown",
   "metadata": {},
   "source": [
    "Si observamos la tabla de porcentajes de clasificación, vemos como, tal como dijimos, el porcentaje de error no era muy alto. La media de la precisión es 0.92 y la del racall, 0.93, ambas altas. Sin embargo, los valores cercanos a 1 (o incluso 1) que encontrábamos al clasificar con bolsa de palabras han desaparecido y, en general, los valores han bajado, siendo los intervalos (0.89, 0.97) en la precisión y (0.91, 0.95) en la exahustividad. \n",
    "\n",
    "Si estudiamos el f1-score, vemos que el intervalo y la media coinciden con los de exahustividad. Estos valores tan similares nos afirman que todos los tipos de noticias se clasifican aproximadamente igual de bien. Aún así, destacaremos entretenimiento como el mejor clasificado y business y tecnología como los peores. \n",
    "\n",
    "Si miramos la matriz de confusión, vemos claramente esta igualdad que mencionábamos antes: Todos los elementos de la matriz tienen aproximadamente el mismo número (1 o 2), salvo la diagonal, que son los elementos bien clasificados. Esto implica que ha habido el mismo número de elementos mal clasificados con cada par de tipos (deportes clasificados como tecnología, entretenimiento, etc). De 20 malas combinacioones posibles, solo 7 no tienen 1 o 2 noticias. 5 de ellas destacan por tener valor 0. Vemos que la que menos veces ha tenido errores (más ceros en sus filas y columnas) es entretenimiento, lo que hace que sea la mejor clafificada. En cuanto a las peores clasificadas (business y tecnología), vemos que ambas se encuantran con valores de 3 en sus filas o columnas, lo que hace que su f1-score baje. Sin embargo, ya que sus valores en la matriz son muy parecidos, no destacaremos esta diferencia. "
   ]
  },
  {
   "cell_type": "code",
   "execution_count": 74,
   "metadata": {},
   "outputs": [
    {
     "name": "stdout",
     "output_type": "stream",
     "text": [
      "k-NN, porcentaje de error en entrenamiento: 0.36828859060402686\n",
      "k-NN, porcentaje de error en test: 0.40939597315436244\n"
     ]
    }
   ],
   "source": [
    "knn_classifier2 = neighbors.KNeighborsClassifier()\n",
    "knn_classifier2.fit(train_vector_data, y_train)\n",
    "\n",
    "knn_train_predictions2 = knn_classifier2.predict(train_vector_data2)\n",
    "knn_test_predictions2 = knn_classifier2.predict(test_vector_data2)\n",
    "\n",
    "print(\"k-NN, porcentaje de error en entrenamiento:\", np.mean(knn_train_predictions2 != y_train))\n",
    "print(\"k-NN, porcentaje de error en test:\", np.mean(knn_test_predictions2 != y_test))"
   ]
  },
  {
   "cell_type": "code",
   "execution_count": 75,
   "metadata": {},
   "outputs": [
    {
     "data": {
      "text/plain": [
       "(array([0.5, 1.5, 2.5, 3.5, 4.5]),\n",
       " [Text(0.5, 0, 'sport'),\n",
       "  Text(1.5, 0, 'business'),\n",
       "  Text(2.5, 0, 'politics'),\n",
       "  Text(3.5, 0, 'entertainment'),\n",
       "  Text(4.5, 0, 'tech')])"
      ]
     },
     "execution_count": 75,
     "metadata": {},
     "output_type": "execute_result"
    },
    {
     "data": {
      "image/png": "[encoded data removed]",
      "text/plain": [
       "<Figure size 1080x720 with 2 Axes>"
      ]
     },
     "metadata": {
      "needs_background": "light"
     },
     "output_type": "display_data"
    }
   ],
   "source": [
    "%matplotlib inline\n",
    "\n",
    "classifier4=knn_classifier2\n",
    "#predictions3 = gnb_test_predictions\n",
    "\n",
    "conf_matrix4 = confusion_matrix(y_test, knn_test_predictions2)\n",
    "conf_matrix_df4 = pd.DataFrame(conf_matrix4, index=target_names, columns=target_names)\n",
    "\n",
    "plt.figure(figsize=(15, 10))\n",
    "sn.heatmap(conf_matrix_df4, annot=True, vmin=0, vmax=conf_matrix4.max(), fmt='d', cmap=\"YlGnBu\")\n",
    "plt.yticks(rotation=0)\n",
    "plt.xticks(rotation=90)"
   ]
  },
  {
   "cell_type": "markdown",
   "metadata": {},
   "source": [
    "Aquí vemos que el porcentahe de error en test ha aumentado muy poco, por lo que podemos decir que apenas ha variado, mientras que el porcentaje de error en entrenamiento ha subido a casi un 40%, lo que nos hace pensar que será mucho peor que el clasificador entrenado por Naive Bayes.\n",
    "\n",
    "Al observar la matriz de confusión vemos que efectivamente tiene más errores que la matriz anterior. Vemos que, al igual que pasó con el clasificador con bolsa de palabras, muchas de las notocias mal clasificadas se han confundido con entretenimiento. De hecho, esta matriz es exactamente igual que la conseguida anteriormente. Esto es posible que se deba a que el entrenamiento con knn, al seleccionar por vecinos en vez de por palabras, seleccione los mismos vecinos sin importar el método que se use para el clasificador.  "
   ]
  },
  {
   "cell_type": "markdown",
   "metadata": {},
   "source": [
    "## 4) Análisis comparativo final\n",
    "\n",
    "Hemos entrenado dos clasificadores usando dos vectorizaciones diferentes de los datos. Compara la tasa de acierto de todos ellos y explica a qué crees que se deben las diferencias.\n",
    "\n",
    "Busca un mensaje mal clasificado por el Naive Bayes con vectorización de frecuencias y otro mal clasificado por el k-NN con Word-embeddings. Analiza los vectores de términos de dichos mensajes e intenta razonar por qué ha sido clasificado erróneamente.\n",
    "\n",
    "Para el Naive Bayes con vectorización de frecuencias, elige dos clases donde el clasificador no haya funcionado bien y analiza las palabras más relevantes para clasificar una noticia como de dichas clases. Razona si lo que ves crees que influye en la posible confusión a la hora de clasificar entre dichas clases."
   ]
  },
  {
   "cell_type": "markdown",
   "metadata": {},
   "source": [
    "### Análisis comparativo\n",
    "\n",
    "\n",
    "\n",
    "                           ENTRENAMIENTO           TEST\n",
    "\n",
    "BOLSA DE PALABRAS          \n",
    "   \n",
    "    Naive Bayes                  0.99                0.97\n",
    "   \n",
    "    knn                          0.63                0.59\n",
    "   \n",
    "WORD EMBEDDING\n",
    "\n",
    "    Naive Bayes                  0.93                0.63\n",
    "    \n",
    "    knn                          0.63                0.59"
   ]
  },
  {
   "cell_type": "markdown",
   "metadata": {},
   "source": [
    "A priori esperábamos que la clasificación por word embedding funcionara mejor que la de bolsa de palabras, ya que, al tener las palabras valores que las definan pensamos que sería más óptimo a la hora de encontrar textos parecidos por sinónimos, algo que no puede hacer la bolsa de palabras, que compara las palabras en sí. Sin embargo, al ejecutar ambos algoritmos hemos visto distintos resultados. \n",
    "\n",
    "En cuanto a los entrenados con Naive Bayes, el basado en bolsa de palabrasobtiene mejores resultados que el el word embedding. El primero tiene una tasa de acierto en test 0.97 y entrenamiento 0.99, mientras que el segundo tiene tasas de test 0.63 y entrenamiento 0.93 (datos optenidos en partes 2 y 3). Vemos que en word embedding baja considerablemenete, en especial el porcentaje de acierto de test. Creemos que esto puede deberse a que, al buscar palabras con valores similares, encuentre otras que, aunque puedan ser sinónimos en algunos contextos, no lo sean en este, y por tanto hagan que la noticia esté mal clasificada, aunque esta misma razón es la que nos hizo pensar en un principio que word embedding sería mejor. Vemos también que el orden de tipos de noticias mejor clasificads también cambian. Esto creemos que se debe a que, al buscar según los valores de las word embedding en vez de por palabras concretas, las confusiones entre tipos de noticias también son diferentes. \n",
    "\n",
    "En cuanto al knn, vemos que los porcentajes coinciden en ambos casos: 0.63 en entrenamiento y 0.59 en test. Estos porcentajes con más bajos ya que, como explicamos en la parte 2, el knn es un mal método de entrenamiento para un clasificador ya que se basa en los vecinos de un individuo, en vez de dar una probabilidad como hace el Naive Bayes. Hemos comprobado también que coinciden las matrices de confusión. Esto creemos que es debido al entrenamiento por knn, ya que, como hemos dicho antes, se basa en la clasificación de los vecinos: si los vecinos son los mismos, la clasificación en ambos modelos será igual.\n",
    "\n",
    "Como conclusión, vemos que el entrenamiento con knn es el que peor funciona con clasificadores, sin importar el modelo. EN cuanto al Naive Bayes, vemos que en este caso funciona mejor con bolsa de palabras que con word embedding."
   ]
  },
  {
   "cell_type": "markdown",
   "metadata": {},
   "source": [
    "### Mensajes mal clasificados"
   ]
  },
  {
   "cell_type": "code",
   "execution_count": 123,
   "metadata": {},
   "outputs": [
    {
     "name": "stdout",
     "output_type": "stream",
     "text": [
      "Tipo esperado: tech\n",
      "Tipo obtenido: business\n",
      "\n",
      "Mensaje 58 : games maker fights for survival one of britain s largest independent game makers  argonaut games  has been put up for sale.  the london-based company behind the harry potter games has sacked about 100 employees due to a severe cash crisis. the administrators told bbc news online that selling argonaut was the only way to save it as it had run out of cash. argonaut warned that it was low on cash 10 days ago when its shares were suspended from trading on the london stock exchange.  argonaut has been making games for some 18 years and is one the largest independent games developers in the uk.  along with its headquarters in north london  it operates studios in cambridge and sheffield. argonaut was behind the harry potter games which provided a healthy flow of cash into the company. but  like all software developers  argonaut needed a constant flow of deals with publishers. signs that it was in trouble emerged in august  when it warned it was heading for losses of £6m in the financial year due to delays in signing new contracts for games. those new deals were further delayed  leading argonaut to warn in mid-october that it was running out of cash and suspend trading of its shares on the london stock exchange. as part of cost-cutting measures  some 100 employees were fired.  when the news about the £6m loss came out  we knew there were going to be redundancies   said jason parkinson  one of the game developers sacked by argonaut.  a lot of people suspected that argonaut had been in trouble for some time   he told bbc news online. mr parkinson said staff were told the job losses were necessary to save argonaut from going under. at the start of the year  the company employed 268 people. after the latest round of cuts there are 80 staff at argonaut headquarters in edgware in north london  with 17 at its morpheme offices in kentish town  london  and 22 at the just add monsters base in cambridge.  argonaut called in administrators david rubin & partners on friday to find a way to rescue the company from collapse. it spent the weekend going over the company s finances and concluded that the only way to save the business was to put it up for sale. the administrator told bbc news online that the costs of restructuing would be too high  partly because of the overheads from the company s four premises across the uk. it said it was hopeful that it could save some 110 jobs by selling the business  saying it had had expressions of interest from several quarters and were looking for a quick sale. the administrator said it would ensure that staff made redundant would receive any wages  redundancy or holiday pay due to them  hopefully by christmas. \n",
      "\n",
      "Mensaje 58 vectorizado: ['add' 'administrator' 'administrators' 'ago' 'august' 'base' 'based'\n",
      " 'bbc' 'britain' 'business' 'called' 'cambridge' 'came' 'cash' 'christmas'\n",
      " 'collapse' 'company' 'concluded' 'constant' 'contracts' 'cost' 'costs'\n",
      " 'crisis' 'cuts' 'cutting' 'david' 'days' 'deals' 'delayed' 'delays'\n",
      " 'developers' 'emerged' 'employed' 'employees' 'ensure' 'exchange'\n",
      " 'fights' 'finances' 'financial' 'fired' 'flow' 'friday' 'game' 'games'\n",
      " 'going' 'harry' 'heading' 'headquarters' 'healthy' 'high' 'holiday'\n",
      " 'hopeful' 'hopefully' 'independent' 'jason' 'job' 'jobs' 'just' 'knew'\n",
      " 'largest' 'latest' 'leading' 'like' 'london' 'looking' 'loss' 'losses'\n",
      " 'lot' 'low' 'maker' 'makers' 'making' 'measures' 'mid' 'mr' 'necessary'\n",
      " 'needed' 'new' 'news' 'north' 'october' 'offices' 'online' 'operates'\n",
      " 'overheads' 'partly' 'partners' 'pay' 'people' 'potter' 'premises'\n",
      " 'provided' 'publishers' 'quarters' 'quick' 'receive' 'redundancies'\n",
      " 'redundancy' 'redundant' 'rescue' 'round' 'rubin' 'run' 'running' 's'\n",
      " 'sacked' 'said' 'sale' 'save' 'saying' 'selling' 'severe' 'shares'\n",
      " 'sheffield' 'signing' 'signs' 'software' 'spent' 'staff' 'start' 'stock'\n",
      " 'studios' 'survival' 'suspected' 'suspend' 'suspended' 'time' 'told'\n",
      " 'town' 'trading' 'trouble' 'uk' 'wages' 'warn' 'warned' 'way' 'weekend'\n",
      " 'year' 'years'] \n",
      "\n"
     ]
    }
   ],
   "source": [
    "## Mensaje mal clasificado Naive Bayes con bolsa de palabras\n",
    "\n",
    "encontrado = 0\n",
    "i = 0\n",
    "\n",
    "while encontrado == 0 and i < mnb_test_predictions.size:\n",
    "    if y_test[i] != mnb_test_predictions[i]:\n",
    "        encontrado = 1\n",
    "    else:\n",
    "        i = i + 1\n",
    "    \n",
    "\n",
    "print (\"Tipo esperado: \" + y_test[i])\n",
    "print (\"Tipo obtenido: \" + mnb_test_predictions[i])\n",
    "print()\n",
    "write_terms(feature_names, X_test, test_vector_data, i)\n"
   ]
  },
  {
   "cell_type": "markdown",
   "metadata": {},
   "source": [
    "Aquí vemos un mensaje de tecnología clasificado como business. Este mensaje habla sobre la venta de una compañía de creación de videojuegos, por lo que tiene sentido que sea confundida con una noticia de negocios. Vemos palabras que pueden haber causado esta confusión, como 'business', 'administrator' o 'company', que se suelen usar en un ámbito de negocios más que en uno tecnológico. Así mismo, vemos un pequeño número de palabras relacionadas con la tecnología, como'software' o 'online', que no son muy representativas. "
   ]
  },
  {
   "cell_type": "code",
   "execution_count": 124,
   "metadata": {},
   "outputs": [
    {
     "name": "stdout",
     "output_type": "stream",
     "text": [
      "Tipo esperado: tech\n",
      "Tipo obtenido: sport\n",
      "\n",
      "Mensaje 2 : us duo in first spam conviction a brother and sister in the us have been convicted of sending hundreds of thousands of unsolicited e-mail messages to aol subscribers.  it is the first criminal prosecution of internet spam distributors. jurors in virginia recommended that the man  jeremy jaynes  serve nine years in prison and that his sister  jessica degroot  be fined $7 500. they were convicted under a state law that bars the sending of bulk e-mails using fake addresses.  they will be formally sentenced next year. a third defendant  richard rutkowski  was acquitted. prosecutors said jaynes was  a snake oil salesman in a new format   using the internet to peddle useless wares  news agency associated press reported. a  fed-ex refund processor  was supposed to allow people to earn $75 an hour working from home. another item on sale was an  internet history eraser . his sister helped him process credit card payments. jaynes amassed a fortune of $24m from his sales  prosecutors said.  he s been successful ripping people off all these years   ap quoted prosecutor russell mcguire as saying. jaynes was also found guilty of breaking a state law which prohibits the sending of more than 100 000 e-mails in 30 days  virginia state attorney general jerry kilgore reportedly said. prosecutors had asked for 15 years in jail for jaynes  and a jail term for his sister. but jaynes  lawyer david oblon called the nine-year recommended term  outrageous  and said his client believed he was innocent. he pointed out that all three of the accused lived in north carolina and were unaware of the virginia state law. spam messages are estimated to account for at least 60% of all e-mails sent. \n",
      "\n",
      "Mensaje 2 vectorizado: ['account' 'accused' 'acquitted' 'addresses' 'agency' 'allow' 'amassed'\n",
      " 'aol' 'ap' 'asked' 'associated' 'attorney' 'bars' 'believed' 'breaking'\n",
      " 'brother' 'bulk' 'called' 'card' 'carolina' 'client' 'convicted'\n",
      " 'conviction' 'credit' 'criminal' 'david' 'days' 'defendant' 'degroot'\n",
      " 'distributors' 'duo' 'e' 'earn' 'eraser' 'estimated' 'ex' 'fake' 'fed'\n",
      " 'fined' 'formally' 'format' 'fortune' 'general' 'guilty' 'helped'\n",
      " 'history' 'home' 'hour' 'hundreds' 'innocent' 'internet' 'item' 'jail'\n",
      " 'jaynes' 'jeremy' 'jerry' 'jessica' 'jurors' 'kilgore' 'law' 'lawyer'\n",
      " 'lived' 'mail' 'mails' 'man' 'mcguire' 'messages' 'new' 'news' 'north'\n",
      " 'oblon' 'oil' 'outrageous' 'payments' 'peddle' 'people' 'pointed' 'press'\n",
      " 'prison' 'process' 'processor' 'prohibits' 'prosecution' 'prosecutor'\n",
      " 'prosecutors' 'quoted' 'recommended' 'refund' 'reported' 'reportedly'\n",
      " 'richard' 'ripping' 'russell' 'rutkowski' 's' 'said' 'sale' 'sales'\n",
      " 'salesman' 'saying' 'sending' 'sent' 'sentenced' 'serve' 'sister' 'snake'\n",
      " 'spam' 'state' 'subscribers' 'successful' 'supposed' 'term' 'thousands'\n",
      " 'unaware' 'unsolicited' 'useless' 'using' 'virginia' 'wares' 'working'\n",
      " 'year' 'years'] \n",
      "\n"
     ]
    }
   ],
   "source": [
    "## Mensaje mal clasificado knn con word embedding\n",
    "encontrado = 0\n",
    "i = 0\n",
    "\n",
    "while encontrado == 0 and i < knn_test_predictions2.size:\n",
    "    if y_test[i] != knn_test_predictions2[i]:\n",
    "        encontrado = 1\n",
    "    else:\n",
    "        i = i + 1\n",
    "    \n",
    "\n",
    "print (\"Tipo esperado: \" + y_test[i])\n",
    "print (\"Tipo obtenido: \" + knn_test_predictions2[i])\n",
    "print()\n",
    "write_terms(feature_names, X_test, test_vector_data2, i)\n"
   ]
  },
  {
   "cell_type": "markdown",
   "metadata": {},
   "source": [
    "Aquí vemos un mensaje de tecnología clasificado como deportes. Este mensaje habla sobre un envío masivo de spam a correos electrónicos. Creemos que este error se puede deber a los vecinos cercanos. Como ya dijimos antes, el knn es un mal método de entrenamiento. Vemos que la mayoría de palabras tienen relación con el tema fiscal, y unas pocas con tecnología, pero no vemos ninguna palabra representativa de deportes."
   ]
  },
  {
   "cell_type": "markdown",
   "metadata": {},
   "source": [
    "### Peores tipos de Naive Bayes multinomial"
   ]
  },
  {
   "cell_type": "code",
   "execution_count": 152,
   "metadata": {
    "scrolled": true
   },
   "outputs": [
    {
     "data": {
      "text/plain": [
       "array(['business', 'entertainment', 'politics', 'sport', 'tech'],\n",
       "      dtype='<U13')"
      ]
     },
     "execution_count": 152,
     "metadata": {},
     "output_type": "execute_result"
    }
   ],
   "source": [
    "##Las peores son politicas y tecnologia\n",
    "mnb_classifier.classes_"
   ]
  },
  {
   "cell_type": "code",
   "execution_count": 154,
   "metadata": {
    "scrolled": true
   },
   "outputs": [
    {
     "data": {
      "text/plain": [
       "array([[0., 0., 0., ..., 1., 0., 0.],\n",
       "       [0., 0., 0., ..., 0., 1., 0.],\n",
       "       [1., 0., 0., ..., 0., 0., 0.],\n",
       "       [0., 4., 1., ..., 5., 0., 3.],\n",
       "       [0., 0., 1., ..., 0., 0., 0.]])"
      ]
     },
     "execution_count": 154,
     "metadata": {},
     "output_type": "execute_result"
    }
   ],
   "source": [
    "##Valor de cada palabra para cada clase\n",
    "mnb_classifier.feature_count_"
   ]
  },
  {
   "cell_type": "code",
   "execution_count": 168,
   "metadata": {},
   "outputs": [
    {
     "data": {
      "text/plain": [
       "1175.0"
      ]
     },
     "execution_count": 168,
     "metadata": {},
     "output_type": "execute_result"
    }
   ],
   "source": [
    "##Calculamos el peso maximo de las palabras\n",
    "i = 0\n",
    "type = 2 #politica\n",
    "max = 0\n",
    "\n",
    "while i < len(feature_names):\n",
    "    if mnb_classifier.feature_count_[type][i] > max:\n",
    "        max =  mnb_classifier.feature_count_[type][i]\n",
    "    i = i + 1\n",
    "\n",
    "max"
   ]
  },
  {
   "cell_type": "code",
   "execution_count": 176,
   "metadata": {},
   "outputs": [
    {
     "name": "stdout",
     "output_type": "stream",
     "text": [
      "69\n"
     ]
    },
    {
     "data": {
      "text/plain": [
       "['added',\n",
       " 'bbc',\n",
       " 'believe',\n",
       " 'blair',\n",
       " 'britain',\n",
       " 'british',\n",
       " 'brown',\n",
       " 'campaign',\n",
       " 'chancellor',\n",
       " 'children',\n",
       " 'council',\n",
       " 'country',\n",
       " 'election',\n",
       " 'eu',\n",
       " 'expected',\n",
       " 'foreign',\n",
       " 'general',\n",
       " 'government',\n",
       " 'home',\n",
       " 'howard',\n",
       " 'issue',\n",
       " 'just',\n",
       " 'kennedy',\n",
       " 'kilroy',\n",
       " 'labour',\n",
       " 'law',\n",
       " 'leader',\n",
       " 'lib',\n",
       " 'liberal',\n",
       " 'local',\n",
       " 'lord',\n",
       " 'make',\n",
       " 'michael',\n",
       " 'minister',\n",
       " 'mps',\n",
       " 'mr',\n",
       " 'new',\n",
       " 'news',\n",
       " 'parties',\n",
       " 'party',\n",
       " 'people',\n",
       " 'plans',\n",
       " 'police',\n",
       " 'political',\n",
       " 'prime',\n",
       " 'public',\n",
       " 's',\n",
       " 'said',\n",
       " 'say',\n",
       " 'saying',\n",
       " 'says',\n",
       " 'secretary',\n",
       " 'spokesman',\n",
       " 't',\n",
       " 'tax',\n",
       " 'time',\n",
       " 'told',\n",
       " 'tony',\n",
       " 'tories',\n",
       " 'tory',\n",
       " 'uk',\n",
       " 'ukip',\n",
       " 'vote',\n",
       " 'want',\n",
       " 'way',\n",
       " 'week',\n",
       " 'work',\n",
       " 'year',\n",
       " 'years']"
      ]
     },
     "execution_count": 176,
     "metadata": {},
     "output_type": "execute_result"
    }
   ],
   "source": [
    "##Consideramos palabras relevantes las que tienen peso 70 o mas\n",
    "i = 0\n",
    "type = 2 #politica\n",
    "words = []\n",
    "\n",
    "while i < len(feature_names):\n",
    "    if mnb_classifier.feature_count_[type][i] > 70:\n",
    "        words.append(feature_names[i])\n",
    "    i = i + 1\n",
    "\n",
    "print(len(words))\n",
    "words"
   ]
  },
  {
   "cell_type": "markdown",
   "metadata": {},
   "source": [
    "En la clase politica podemos ver las 69 palabras más relevantes que describen a esta clase, entre las que destacamos 'vote', 'political', liberal' o 'government'. Estas palabras son muy representativas de esta clase. Vemos algunas palabras que pueden causra confusión, como l'leader', que podría aparecer en temas tecnológicos de videojuegos, o 'police'. Destacamos sobre todo 'party' por su doble significado: fiesta y partido, que pueden causar confusión en algunos casos. También vemos palabras muy generales que podrían usarse en cualquier contexto, como 'just', 'make' o year'."
   ]
  },
  {
   "cell_type": "code",
   "execution_count": 177,
   "metadata": {},
   "outputs": [
    {
     "data": {
      "text/plain": [
       "865.0"
      ]
     },
     "execution_count": 177,
     "metadata": {},
     "output_type": "execute_result"
    }
   ],
   "source": [
    "##Calculamos el peso maximo de las palabras\n",
    "i = 0\n",
    "type = 4 #tecnologia\n",
    "max = 0\n",
    "\n",
    "while i < len(feature_names):\n",
    "    if mnb_classifier.feature_count_[type][i] > max:\n",
    "        max =  mnb_classifier.feature_count_[type][i]\n",
    "    i = i + 1\n",
    "\n",
    "max"
   ]
  },
  {
   "cell_type": "code",
   "execution_count": 179,
   "metadata": {},
   "outputs": [
    {
     "name": "stdout",
     "output_type": "stream",
     "text": [
      "94\n"
     ]
    },
    {
     "data": {
      "text/plain": [
       "['able',\n",
       " 'according',\n",
       " 'apple',\n",
       " 'based',\n",
       " 'bbc',\n",
       " 'broadband',\n",
       " 'called',\n",
       " 'companies',\n",
       " 'computer',\n",
       " 'consumer',\n",
       " 'consumers',\n",
       " 'content',\n",
       " 'data',\n",
       " 'devices',\n",
       " 'different',\n",
       " 'digital',\n",
       " 'e',\n",
       " 'end',\n",
       " 'europe',\n",
       " 'firm',\n",
       " 'firms',\n",
       " 'gadget',\n",
       " 'gadgets',\n",
       " 'game',\n",
       " 'games',\n",
       " 'gaming',\n",
       " 'going',\n",
       " 'help',\n",
       " 'high',\n",
       " 'home',\n",
       " 'information',\n",
       " 'internet',\n",
       " 'just',\n",
       " 'like',\n",
       " 'mail',\n",
       " 'make',\n",
       " 'market',\n",
       " 'media',\n",
       " 'messages',\n",
       " 'microsoft',\n",
       " 'million',\n",
       " 'mobile',\n",
       " 'mobiles',\n",
       " 'months',\n",
       " 'mr',\n",
       " 'music',\n",
       " 'net',\n",
       " 'network',\n",
       " 'networks',\n",
       " 'new',\n",
       " 'news',\n",
       " 'number',\n",
       " 'online',\n",
       " 'pc',\n",
       " 'people',\n",
       " 'phone',\n",
       " 'phones',\n",
       " 'players',\n",
       " 'radio',\n",
       " 'report',\n",
       " 'research',\n",
       " 's',\n",
       " 'said',\n",
       " 'says',\n",
       " 'search',\n",
       " 'security',\n",
       " 'service',\n",
       " 'services',\n",
       " 'set',\n",
       " 'site',\n",
       " 'sites',\n",
       " 'software',\n",
       " 'sony',\n",
       " 'spam',\n",
       " 't',\n",
       " 'technology',\n",
       " 'time',\n",
       " 'tv',\n",
       " 'uk',\n",
       " 'use',\n",
       " 'used',\n",
       " 'users',\n",
       " 'using',\n",
       " 'video',\n",
       " 'virus',\n",
       " 'want',\n",
       " 'way',\n",
       " 'web',\n",
       " 'website',\n",
       " 'websites',\n",
       " 'work',\n",
       " 'world',\n",
       " 'year',\n",
       " 'years']"
      ]
     },
     "execution_count": 179,
     "metadata": {},
     "output_type": "execute_result"
    }
   ],
   "source": [
    "##Consideramos palabras relevantes las que tienen peso 70 o mas\n",
    "i = 0\n",
    "type = 4 #tecnologia\n",
    "words = []\n",
    "\n",
    "while i < len(feature_names):\n",
    "    if mnb_classifier.feature_count_[type][i] > 70:\n",
    "        words.append(feature_names[i])\n",
    "    i = i + 1\n",
    "    \n",
    "print(len(words))\n",
    "words"
   ]
  },
  {
   "cell_type": "markdown",
   "metadata": {},
   "source": [
    "Primero destacamos que el peso máximo es menor que en políticas y que, al seleccionar las palabras más relevantes con peso 70 o más salen más palabras que con el tipo anterior. Esto creemos que da como resultado que haya más confusión que con otras clases. Destacamos palabras como 'software', 'online' o 'gaming' como características de esta clase. Vemos las mismas palabras generales, 'just', 'make' y 'year', que vimos en la clase políticas, que podrían dar confusión entre los tipos a la hora de clasificarlos. También vemos nombres de marcas, como 'microsoft', 'apple' y 'sony', que podrían ser usadas en noticias de business, palabras como 'music' y 'tv', que se usan en noticias de entretenimiento y 'player', que podria referirse a deportes. Podemos ver en esta lista por qué esta clase es la peor, ya que sus palabras relevantes pueden ser confundidas con cualquiera de las otrs clases."
   ]
  }
 ],
 "metadata": {
  "kernelspec": {
   "display_name": "Python 3",
   "language": "python",
   "name": "python3"
  },
  "language_info": {
   "codemirror_mode": {
    "name": "ipython",
    "version": 3
   },
   "file_extension": ".py",
   "mimetype": "text/x-python",
   "name": "python",
   "nbconvert_exporter": "python",
   "pygments_lexer": "ipython3",
   "version": "3.8.8"
  }
 },
 "nbformat": 4,
 "nbformat_minor": 2
}
