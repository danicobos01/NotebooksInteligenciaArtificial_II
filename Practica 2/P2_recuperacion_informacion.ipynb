{
 "cells": [
  {
   "cell_type": "markdown",
   "metadata": {
    "id": "jpd0gkGnpzXT"
   },
   "source": [
    "# Práctica 2: Procesamiento del Lenguaje Natural\n",
    "\n",
    "__Fecha de entrega: 17 de abril de 2022__\n",
    "\n",
    "El objetivo de esta práctica es aplicar los conceptos teóricos vistos en clase en el módulo de PLN. La práctica consta de 2 notebooks que se entregarán simultáneamente en la tarea de entrega habilitada en el Campus  Virtual.\n",
    "\n",
    "Lo más importante en esta práctica no es el código Python, sino el análisis de los datos y modelos que construyas y las explicaciones razonadas de cada una de las decisiones que tomes. __No se valorarán trozos de código o gráficas sin ningún tipo de contexto o explicación__.\n",
    "\n",
    "Finalmente, recuerda establecer el parámetro `random_state` en todas las funciones que tomen decisiones aleatorias para que los resultados sean reproducibles (los resultados no varíen entre ejecuciones)."
   ]
  },
  {
   "cell_type": "code",
   "execution_count": 10,
   "metadata": {
    "id": "IBx1oG6bpzXY"
   },
   "outputs": [],
   "source": [
    "RANDOM_STATE = 57"
   ]
  },
  {
   "cell_type": "markdown",
   "metadata": {
    "id": "TkJPtLPRpzXa"
   },
   "source": [
    "# Apartado 2: Recuperación de información"
   ]
  },
  {
   "cell_type": "markdown",
   "metadata": {
    "id": "W1iFIS_EpzXc"
   },
   "source": [
    "## 1) Carga del conjunto de datos\n",
    "\n",
    "El fichero `BBC News.csv` contiene noticias clasificadas en 5 categorías diferentes. \n",
    "\n",
    "Carga los datos en un dataframe teniendo en cuenta que la columna `ArticleId` es un identificador de la noticia y por lo tanto no lo vamos a usar. \n",
    "\n",
    "Estudia el tamaño del conjunto de datos y la proporción de noticias que pertenecen a cada una de las categorías.\n",
    "\n",
    "Crea una partición estratificada de los datos dejando el 80% para entrenamiento y el 20% restante para test usando la función `train_test_split` de sklearn. "
   ]
  },
  {
   "cell_type": "code",
   "execution_count": 11,
   "metadata": {
    "id": "ufbBvGcnpzXe"
   },
   "outputs": [],
   "source": [
    "import pandas as pd"
   ]
  },
  {
   "cell_type": "code",
   "execution_count": 12,
   "metadata": {},
   "outputs": [
    {
     "data": {
      "text/html": [
       "<div>\n",
       "<style scoped>\n",
       "    .dataframe tbody tr th:only-of-type {\n",
       "        vertical-align: middle;\n",
       "    }\n",
       "\n",
       "    .dataframe tbody tr th {\n",
       "        vertical-align: top;\n",
       "    }\n",
       "\n",
       "    .dataframe thead th {\n",
       "        text-align: right;\n",
       "    }\n",
       "</style>\n",
       "<table border=\"1\" class=\"dataframe\">\n",
       "  <thead>\n",
       "    <tr style=\"text-align: right;\">\n",
       "      <th></th>\n",
       "      <th>Text</th>\n",
       "      <th>Category</th>\n",
       "    </tr>\n",
       "    <tr>\n",
       "      <th>ArticleId</th>\n",
       "      <th></th>\n",
       "      <th></th>\n",
       "    </tr>\n",
       "  </thead>\n",
       "  <tbody>\n",
       "    <tr>\n",
       "      <th>1833</th>\n",
       "      <td>worldcom ex-boss launches defence lawyers defe...</td>\n",
       "      <td>business</td>\n",
       "    </tr>\n",
       "    <tr>\n",
       "      <th>154</th>\n",
       "      <td>german business confidence slides german busin...</td>\n",
       "      <td>business</td>\n",
       "    </tr>\n",
       "    <tr>\n",
       "      <th>1101</th>\n",
       "      <td>bbc poll indicates economic gloom citizens in ...</td>\n",
       "      <td>business</td>\n",
       "    </tr>\n",
       "    <tr>\n",
       "      <th>1976</th>\n",
       "      <td>lifestyle  governs mobile choice  faster  bett...</td>\n",
       "      <td>tech</td>\n",
       "    </tr>\n",
       "    <tr>\n",
       "      <th>917</th>\n",
       "      <td>enron bosses in $168m payout eighteen former e...</td>\n",
       "      <td>business</td>\n",
       "    </tr>\n",
       "    <tr>\n",
       "      <th>...</th>\n",
       "      <td>...</td>\n",
       "      <td>...</td>\n",
       "    </tr>\n",
       "    <tr>\n",
       "      <th>857</th>\n",
       "      <td>double eviction from big brother model caprice...</td>\n",
       "      <td>entertainment</td>\n",
       "    </tr>\n",
       "    <tr>\n",
       "      <th>325</th>\n",
       "      <td>dj double act revamp chart show dj duo jk and ...</td>\n",
       "      <td>entertainment</td>\n",
       "    </tr>\n",
       "    <tr>\n",
       "      <th>1590</th>\n",
       "      <td>weak dollar hits reuters revenues at media gro...</td>\n",
       "      <td>business</td>\n",
       "    </tr>\n",
       "    <tr>\n",
       "      <th>1587</th>\n",
       "      <td>apple ipod family expands market apple has exp...</td>\n",
       "      <td>tech</td>\n",
       "    </tr>\n",
       "    <tr>\n",
       "      <th>538</th>\n",
       "      <td>santy worm makes unwelcome visit thousands of ...</td>\n",
       "      <td>tech</td>\n",
       "    </tr>\n",
       "  </tbody>\n",
       "</table>\n",
       "<p>1490 rows × 2 columns</p>\n",
       "</div>"
      ],
      "text/plain": [
       "                                                        Text       Category\n",
       "ArticleId                                                                  \n",
       "1833       worldcom ex-boss launches defence lawyers defe...       business\n",
       "154        german business confidence slides german busin...       business\n",
       "1101       bbc poll indicates economic gloom citizens in ...       business\n",
       "1976       lifestyle  governs mobile choice  faster  bett...           tech\n",
       "917        enron bosses in $168m payout eighteen former e...       business\n",
       "...                                                      ...            ...\n",
       "857        double eviction from big brother model caprice...  entertainment\n",
       "325        dj double act revamp chart show dj duo jk and ...  entertainment\n",
       "1590       weak dollar hits reuters revenues at media gro...       business\n",
       "1587       apple ipod family expands market apple has exp...           tech\n",
       "538        santy worm makes unwelcome visit thousands of ...           tech\n",
       "\n",
       "[1490 rows x 2 columns]"
      ]
     },
     "execution_count": 12,
     "metadata": {},
     "output_type": "execute_result"
    }
   ],
   "source": [
    "df = pd.read_csv(\"BBC News.csv\", index_col = 0)\n",
    "df"
   ]
  },
  {
   "cell_type": "code",
   "execution_count": 13,
   "metadata": {},
   "outputs": [
    {
     "data": {
      "text/plain": [
       "sport            346\n",
       "business         336\n",
       "politics         274\n",
       "entertainment    273\n",
       "tech             261\n",
       "Name: Category, dtype: int64"
      ]
     },
     "execution_count": 13,
     "metadata": {},
     "output_type": "execute_result"
    }
   ],
   "source": [
    "df['Category'].value_counts()"
   ]
  },
  {
   "cell_type": "raw",
   "metadata": {},
   "source": [
    "Hemos estudiado con más detalle los datos extraidos de \"BBC News.csv\" en el notebook anterior por lo que aquí haremos un estudio más pequeño, y luego nos limitaremos a extraer los datos y a dividirlos en el conjunto de entrenamiento y test."
   ]
  },
  {
   "cell_type": "code",
   "execution_count": 14,
   "metadata": {},
   "outputs": [
    {
     "data": {
      "text/plain": [
       "<AxesSubplot:ylabel='Category'>"
      ]
     },
     "execution_count": 14,
     "metadata": {},
     "output_type": "execute_result"
    },
    {
     "data": {
      "image/png": "[encoded data removed]",
      "text/plain": [
       "<Figure size 432x288 with 1 Axes>"
      ]
     },
     "metadata": {},
     "output_type": "display_data"
    }
   ],
   "source": [
    "df['Category'].value_counts().plot.pie()"
   ]
  },
  {
   "cell_type": "raw",
   "metadata": {},
   "source": [
    "Vemos que no hay una grandísima diferencia entre la distintas noticias, pero sí hay dos que contienen mas articulos que el resto, y esas son \"business\" y \"sport\""
   ]
  },
  {
   "cell_type": "code",
   "execution_count": 15,
   "metadata": {},
   "outputs": [
    {
     "data": {
      "text/plain": [
       "array([['ferguson urges henry punishment sir alex ferguson has called on the football association to punish arsenal s thierry henry for an incident involving gabriel heinze.  ferguson believes henry deliberately caught heinze on the head with his knee during united s controversial win. the united boss said it was worse than ruud van nistelrooy s foul on ashley cole for which he got a three-game ban.  we shall present it to the fa and see what they do. the tackle on heinze was terrible   he said. clubs are permitted to ask the fa to examine specific incidents but information is expected to be provided within 48 hours of the game. the clash occurred moments before half-time when a freddie ljungberg challenge left heinze on the ground on the left touchline. henry  following the ball  attempted to hurdle the argentine but his knee collided with the back of heinze s head.  the striker protested his innocence - and referee mike riley deemed the collision accidental. ferguson was also upset by arsenal s overall discipline during the heated encounter between the two arch-rivals and praised his own side s behaviour.  edu produced a terrible tackle on scholes that was a potential leg-breaker   he said.  there were 24 fouls in the game by arsenal  seven on heinze  five on ronaldo  six by vieira - and it was only his sixth foul that got him booked. phil neville got booked for his first challenge.  i am proud of my players for the way they handled that pressure.  we have always been good at being gracious in defeat. what happened on sunday overshadowed our achievement  but then they do it all the time  don t they',\n",
       "        'sport']], dtype=object)"
      ]
     },
     "execution_count": 15,
     "metadata": {},
     "output_type": "execute_result"
    }
   ],
   "source": [
    "df_aux = df[23:24]\n",
    "df_aux.values"
   ]
  },
  {
   "cell_type": "raw",
   "metadata": {},
   "source": [
    "En la noticia de arriba sabemos que se trata de una noticia deportiva al hablar de Henry, un popular ex jugador de futbol, Arsenal, un conocido equipo inglés. También influyen palabras como ball, foul, game, o tackle. \n",
    "Creemos que esta noticia no sería la más fácil de predecir debido a que muchas palabras pueden resultar ambiguas, excepto las que sean nombres propios. "
   ]
  },
  {
   "cell_type": "code",
   "execution_count": 16,
   "metadata": {},
   "outputs": [],
   "source": [
    "from sklearn.model_selection import train_test_split"
   ]
  },
  {
   "cell_type": "code",
   "execution_count": 17,
   "metadata": {},
   "outputs": [
    {
     "data": {
      "text/plain": [
       "(1192, 298)"
      ]
     },
     "execution_count": 17,
     "metadata": {},
     "output_type": "execute_result"
    }
   ],
   "source": [
    "X_train, X_test, y_train, y_test = train_test_split(df['Text'].values, df['Category'], test_size=0.2, random_state=RANDOM_STATE)\n",
    "train_len = len(X_train)\n",
    "test_len = len(X_test)\n",
    "(train_len, test_len)"
   ]
  },
  {
   "cell_type": "code",
   "execution_count": 18,
   "metadata": {},
   "outputs": [
    {
     "data": {
      "text/plain": [
       "array(['few ready  for information act thousands of public bodies are ill-prepared for the freedom of information act  due to come into force next month  because of government failures  say mps.  from next month anyone will have the power to demand information from a range of public bodies - from whitehall departments to doctors  surgeries. but an all-party committee said it was  not confident  many would be ready. it blamed the department for constitutional affairs for a  lack of consistent leadership .  the act comes into effect in england  wales and northern ireland  on 1 january while similar measures are being brought in at the same time in scotland. it provides the public with a right of access to information held by about 100 000 public bodies  subject to various exemptions.  but the government department responsible for implementing the change suffered from an  unusually high turnover  of staff within the department  which had  seriously interfered  with its work  said the constitutional affairs select committee. it said  despite four years of preparations  some local authorities and parts of the health sector were still not ready. the dca had  failed  to provide early guidance on technical matters and shown a  lack of consistent leadership   the mps found. committee chairman alan beith said:  the dca has had four years to prepare for freedom of information  but with less than a month to go it appears that some bodies may not be well enough prepared.  our report shows that in the past support and guidance from the dca  which has overall responsibility for guiding the public sector through the process of implementation for the freedom of information regime  has been lacking.  a spokesman for the dca said:  the dca has provided - and will continue to provide - strong  clear leadership.  it has delivered a simple  liberal fees regime  guidance on the act which has been widely praised  and expert networks of staff working on freedom of information implementation.',\n",
       "       'tories urge  change at the top  tory delegates are gathering for what is expected to be their last conference before the general election  declaring britain needs  a change at the top .  the party goes into its spring forum trying to highlight what it sees as a clear choice between it and labour. tory co-chairman liam fox has opened proceedings with a speech criticising tony blair s record in government. labour s rule has been characterised by  lost trust and failure to deliver   he told the brighton conference. he also attacked the government s  failure  to control immigration and asylum and criticised its record on the nhs  telling delegates labour cannot be trusted on education or crime. a tory government would sort out the  shambles  of immigration  put patients before statistics and bring discipline to schools  he said. dr fox also underlined tory promises to cut tax by £4bn.  bbc political correspondent shaun ley says opinion polls suggest the tories still lag some way behind labour on the issues of health  education and the economy. conservative leader michael howard  who had been due to welcome delegates to the conference on friday  will address them in a lunchtime speech. his welcome address had to be postponed after he stayed in london to lead the party s opposition to the prevention of terrorism bill in its lengthy progress through parliament. the bill was finally passed on friday evening  after more than 30 hours of debate. mr howard is likely to defend his party s handling of the bill  which was only passed after the conservatives accepted prime minister tony blair s promise that mps would be able to review it within a year.',\n",
       "       's&n extends indian beer venture the uk s biggest brewer  scottish and newcastle (s&n)  is to buy 37.5% of india s united breweries in a deal worth 4.66bn rupees ($106m:£54.6m).  s&n will buy a 17.5% equity stake in united  maker of the well-known kingfisher lager brand  and make a public offer to buy another 20% stake. a similar holding will be controlled by vijay mallya  chair of the indian firm. the deal was a  natural development  of its joint venture with united  said tony froggatt  s&n s chief executive.  its top brands include newcastle brown ale  foster s  john smith s  strongbow and kronenbourg. in 2002 s&n and united agreed to form a strategic partnership  one that would include a joint venture business and a uk investment in the indian brewer. the joint venture was established in may 2003. with both parties having a 40% stake in the venture - millennium alcobev. millennium alcobev will now be merged with united  which expects post-merger to have about half of india s beer market.  india  with a population of more than one billion  consumes about 1.2 billion bottles of beer every year. kingfisher has market share of about 29%. in addition to the equity stake s&n is to invest 2.47bn rupees in united through non-convertible redeemable preference shares. meanwhile  united s budget airline  kingfisher airlines  is to buy 10 a320 aircraft from airbus and has the option to buy 20 more aircraft in a deal worth up to $1.8bn. the airline  the brainchild of mr mallya  expects to start its operations by the end of april. the new airline would break even in the very first year of operation  mr mallya said.',\n",
       "       ...,\n",
       "       'bortolami predicts dour contest italy skipper marco bortolami believes saturday s six nations contest against scotland will be a scrappy encounter.  with both sides looking for their first win of the championship  the third-round game at murrayfield has been billed as a wooden-spoon decider. and bortolami feels the edinburgh contest could end up being a bruising battle of the packs.  it will not be a pretty game because both teams are desperate to gain their first win   said the lock forward. italy have only recorded three wins since they joined the six nations in 2000  but two of those have come against scotland. this year  italy opened up with a stubborn display against ireland but ended up losing 28-17.  however  they were thoroughly outplayed by an impressive welsh side in rome last time out. now the italians travel to edinburgh hoping to claim their first away win in the six nations.  scotland played extremely well against france in paris but not so well when ireland came to edinburgh   said bortolami.  we are still very disappointed with our last game against wales in rome and we are thoroughly determined to right the wrongs.  as a nation  our quest is to be respected as a team worthy of a place in this tournament and we can only do this by winning games.',\n",
       "       'egypt to sell off state-owned bank the egyptian government is reportedly planning to privatise one of the country s big public banks.  an investment ministry official has told the reuters news agency that the bank of alexandria will be sold sometime in 2005. the move is seen as evidence of a new commitment by the government to reduce the size of public sector. the official said the government has not yet decided whether the sale will take the form of a public flotation.  the most important thing to decide now is the method - whether by selling shares to the public or to a strategic investor from abroad   he said.  analysts say the public-sector banks have suited the government s monetary  credit and exchange policies. nevertheless  the egyptian government has spoken for years about privatising one of the big four state banks - banque misr  national bank of egypt  banque du caire and bank of alexandria. it had been expected one of the smallest of the four big public banks - bank of alexandria or banque du caire - would be sold first. the announcement reinforces the hopes of investors and international financial bodies for a revival of egypt s privatisation programme. about 190 state-run companies and facilities were sold off from the early 1990s to 1997. the appointment of mahmoud mohieldin  a reform-minded technocrat  to the new post of investment minister in july was taken as a sign that more sell-offs were on the way. both the imf and world bank have urged egypt to remove obstacles to the development of the private sector which they say has a vital role to play in reducing poverty by expanding the economy.',\n",
       "       'lloyd s of london head chides fsa the head of lloyd s of london  the insurance market  has criticised britain s financial watchdog  the financial services authority (fsa).  in a speech on monday  mr prettejohn urged the fsa to force brokers to disclose the size of their commissions.  the fsa should change  and change now  said mr prettejohn  who wants it to move from  disclosure on request  to mandatory disclosure. the call came in a speech on improving the london insurance market.   the fsa should not bide their time and  wait and see . they should seize the moment   mr prettejohn  lloyd s chief executive said. the fsa took over regulation of the general insurance sector in january  but it sidestepped calls to require brokers to disclose the commissions they earn from insurers to their clients. last week  the city watchdog gave brokers and insurers guidance on managing conflicts of interest. brokers must give information on their commissions if  and only if  their customers request it  the fsa said.  in the us  lack of transparency about brokers  commissions has led to problems. the world s biggest insurance broker marsh & mclennan said last week it would pay $850m to settle charges  raised by new york attorney general eliot spitzer in october  that it sought to rig bids in conjunction with insurers. the probe centred around so-called contingent commissions  whereby brokers were rewarded according to how much business they brought to an insurer  an arrangement that did not always benefit brokers  customers. all of the insurance business written in the lloyd s market is placed via brokers.'],\n",
       "      dtype=object)"
      ]
     },
     "execution_count": 18,
     "metadata": {},
     "output_type": "execute_result"
    }
   ],
   "source": [
    "X_train"
   ]
  },
  {
   "cell_type": "raw",
   "metadata": {},
   "source": [
    "Inicialmente estábamos haciendo la división entre el conjunto de entrenamiento y el conjunto de test utilizando df['Text'] que incluía el articleId, y al hacerlo así cuando posteriormente usamos write_terms no coincidían los mensajes vistos de las dos formas, es decir, en su forma orginal y como la lista de palabras vectorizadas. \n",
    "Para solucionarlo en vez de poner df['Text'] hemos puesto df['Text'].values. De esta forma tenemos el array de noticias de entrenamiento como se puede apreciar en la celda anterior. "
   ]
  },
  {
   "cell_type": "markdown",
   "metadata": {
    "id": "3Fx5hJC7pzXf"
   },
   "source": [
    "## 2) Representación basada en bolsa de palabras y tf-idf\n",
    "\n",
    "La primera vectorización que vamos a usar representará los mensajes usando el modelo de bolsa de palabras, monogramas y el valor tf-idf de cada palabra. Usa como _stop words_ las que vienen configuradas por defecto para el inglés.\n",
    "\n",
    "Aplica la vectorización a los conjuntos de mensajes de entrenamiento y test. Muestra algún mensaje tanto en su formato de texto original como en la versión vectorizada. ¿Qué palabras se han eliminado y por qué?\n",
    "\n",
    "Calcula la precisión@5 de cada una de las clases usando como consultas los documentos de la partición de test y la similitud del coseno. Vamos a considerar que un documento recuperado es relevante cuando pertenezca a la misma clase que la consulta.\n",
    "\n",
    "Dibuja los resultados en un diagrama de barras y comenta las clases en las que se comporta mejor y peor. ¿Crees que los resultados son buenos?"
   ]
  },
  {
   "cell_type": "code",
   "execution_count": 19,
   "metadata": {},
   "outputs": [],
   "source": [
    "from sklearn.feature_extraction.text import CountVectorizer\n",
    "from sklearn.feature_extraction.text import TfidfTransformer"
   ]
  },
  {
   "cell_type": "code",
   "execution_count": 20,
   "metadata": {
    "id": "wKdL2-VSpzXg"
   },
   "outputs": [],
   "source": [
    "vectorizer = CountVectorizer(stop_words='english', binary=False)\n",
    "train_vector_data=vectorizer.fit_transform(X_train)"
   ]
  },
  {
   "cell_type": "code",
   "execution_count": 21,
   "metadata": {},
   "outputs": [
    {
     "data": {
      "text/plain": [
       "<1192x22249 sparse matrix of type '<class 'numpy.int64'>'\n",
       "\twith 170451 stored elements in Compressed Sparse Row format>"
      ]
     },
     "execution_count": 21,
     "metadata": {},
     "output_type": "execute_result"
    }
   ],
   "source": [
    "train_vector_data"
   ]
  },
  {
   "cell_type": "code",
   "execution_count": 22,
   "metadata": {},
   "outputs": [
    {
     "name": "stdout",
     "output_type": "stream",
     "text": [
      "22249\n",
      "['00', '000', '0001', '000bn', '000m', '000th', '001', '001and', '001st', '0051', '01', '0100', '0130', '028', '03', '033', '04', '0400', '04bn', '04secs']\n",
      "['consecutive', 'consecutively', 'conseil', 'consensus', 'consent', 'consenus', 'consequences', 'consequently', 'conservationists', 'conservative', 'conservatively', 'conservatives', 'conserve', 'consider', 'considerable', 'considerably', 'consideration', 'considerations', 'considered', 'considering']\n",
      "['zillion', 'zimbabwe', 'zinc', 'zinedine', 'ziyi', 'zodiac', 'zoe', 'zoellick', 'zola', 'zombie', 'zombies', 'zone', 'zonealarm', 'zones', 'zoom', 'zooms', 'zooropa', 'zurich', 'zutons', 'zvonareva']\n"
     ]
    }
   ],
   "source": [
    "feature_names = vectorizer.get_feature_names()\n",
    "print(len(feature_names))\n",
    "print(feature_names[:20])\n",
    "print(feature_names[5000:5020])\n",
    "print(feature_names[-20:])"
   ]
  },
  {
   "cell_type": "raw",
   "metadata": {},
   "source": [
    "Como hemos hecho en la práctica anterior, vamos a quitar aquellas palabras consideradas ruido que pueden entorpecer a la hora de calcular nuestras predicciones. "
   ]
  },
  {
   "cell_type": "code",
   "execution_count": 23,
   "metadata": {},
   "outputs": [
    {
     "name": "stdout",
     "output_type": "stream",
     "text": [
      "21183\n",
      "['aa', 'aaa', 'aaas', 'aac', 'aadc', 'aaliyah', 'aaltra', 'aamir', 'aaron', 'abacus', 'abandon', 'abandoned', 'abandoning', 'abandonment', 'abating', 'abba', 'abbas', 'abbasi', 'abbott', 'abbreviated']\n",
      "['dems', 'den', 'dench', 'denial', 'denials', 'denied', 'denies', 'denis', 'denise', 'denmark', 'dennis', 'denominated', 'densely', 'dent', 'dental', 'dented', 'deny', 'denying', 'denzel', 'deodorant']\n",
      "['zillion', 'zimbabwe', 'zinc', 'zinedine', 'ziyi', 'zodiac', 'zoe', 'zoellick', 'zola', 'zombie', 'zombies', 'zone', 'zonealarm', 'zones', 'zoom', 'zooms', 'zooropa', 'zurich', 'zutons', 'zvonareva']\n"
     ]
    }
   ],
   "source": [
    "vectorizer = CountVectorizer(stop_words='english', binary=False, ngram_range=(1,1), token_pattern=r'(?u)\\b[A-Za-z]+\\b')\n",
    "train_vector_data = vectorizer.fit_transform(X_train)\n",
    "feature_names = vectorizer.get_feature_names()\n",
    "print(len(feature_names))\n",
    "print(feature_names[:20])\n",
    "print(feature_names[5000:5020])\n",
    "print(feature_names[-20:])"
   ]
  },
  {
   "cell_type": "raw",
   "metadata": {},
   "source": [
    "Vemos que la cantidad de palabras ha decrecido en algo más de 60 palabras, que eran símbolos alfanuméricos principalmente. No es un cambio enorme pero es una pequeña modificación que puede mejorar los resultados. "
   ]
  },
  {
   "cell_type": "code",
   "execution_count": 24,
   "metadata": {},
   "outputs": [],
   "source": [
    "# Calculamos el valor TF-IDF \n",
    "tfidfer = TfidfTransformer()\n",
    "train_preprocessed = tfidfer.fit_transform(train_vector_data)"
   ]
  },
  {
   "cell_type": "code",
   "execution_count": 25,
   "metadata": {},
   "outputs": [
    {
     "data": {
      "text/plain": [
       "<1192x21183 sparse matrix of type '<class 'numpy.float64'>'\n",
       "\twith 165531 stored elements in Compressed Sparse Row format>"
      ]
     },
     "execution_count": 25,
     "metadata": {},
     "output_type": "execute_result"
    }
   ],
   "source": [
    "train_preprocessed"
   ]
  },
  {
   "cell_type": "code",
   "execution_count": 26,
   "metadata": {},
   "outputs": [
    {
     "name": "stdout",
     "output_type": "stream",
     "text": [
      "  (0, 21069)\t0.024203852446588913\n",
      "  (0, 20918)\t0.020424073199486976\n",
      "  (0, 20820)\t0.04265179864601438\n",
      "  (0, 20819)\t0.031146156935958614\n",
      "  (0, 20791)\t0.04186805969703239\n",
      "  (0, 20621)\t0.026480300455834986\n",
      "  (0, 20453)\t0.11687355388798483\n",
      "  (0, 20403)\t0.031000506556773406\n",
      "  (0, 20207)\t0.36292861192665665\n",
      "  (0, 20199)\t0.048565827163218715\n",
      "  (0, 19537)\t0.03335317626468051\n",
      "  (0, 19515)\t0.04265179864601438\n",
      "  (0, 19514)\t0.08831396227862004\n",
      "  (0, 19496)\t0.038957851295994946\n",
      "  (0, 19337)\t0.04604203005933217\n",
      "  (0, 19158)\t0.07025254296373801\n",
      "  (0, 19017)\t0.021163662848831304\n",
      "  (0, 18820)\t0.04265179864601438\n",
      "  (0, 18698)\t0.045040443285434106\n",
      "  (0, 18646)\t0.03396558863002939\n",
      "  (0, 18584)\t0.10479481395468934\n",
      "  (0, 18459)\t0.07360003489479891\n",
      "  (0, 18395)\t0.028770894563856505\n",
      "  (0, 18274)\t0.03441137280797973\n",
      "  (0, 18225)\t0.025245510686071882\n",
      "  :\t:\n",
      "  (0, 2931)\t0.03441137280797973\n",
      "  (0, 2928)\t0.039386582773993255\n",
      "  (0, 2903)\t0.036800017447399455\n",
      "  (0, 2740)\t0.04032540132518407\n",
      "  (0, 2377)\t0.08863879868571113\n",
      "  (0, 2254)\t0.10479481395468934\n",
      "  (0, 2029)\t0.038957851295994946\n",
      "  (0, 1863)\t0.022027718104848756\n",
      "  (0, 1811)\t0.20602246870143262\n",
      "  (0, 1396)\t0.1887931085361184\n",
      "  (0, 1395)\t0.25199488374428713\n",
      "  (0, 1380)\t0.0471982771340296\n",
      "  (0, 1348)\t0.03619963640008848\n",
      "  (0, 1336)\t0.0471982771340296\n",
      "  (0, 1323)\t0.04682546414807723\n",
      "  (0, 1320)\t0.19919291858495167\n",
      "  (0, 1317)\t0.02845613122642167\n",
      "  (0, 1304)\t0.07298764302211626\n",
      "  (0, 238)\t0.031146156935958614\n",
      "  (0, 233)\t0.03637484309001961\n",
      "  (0, 208)\t0.09780742313394736\n",
      "  (0, 206)\t0.02956117838326287\n",
      "  (0, 193)\t0.03464218359880396\n",
      "  (0, 127)\t0.05023957312874917\n",
      "  (0, 51)\t0.04604203005933217\n"
     ]
    }
   ],
   "source": [
    "print(train_preprocessed[10])"
   ]
  },
  {
   "cell_type": "code",
   "execution_count": 27,
   "metadata": {},
   "outputs": [
    {
     "data": {
      "text/plain": [
       "['accomplish']"
      ]
     },
     "execution_count": 27,
     "metadata": {},
     "output_type": "execute_result"
    }
   ],
   "source": [
    "feature_names[126:127]"
   ]
  },
  {
   "cell_type": "code",
   "execution_count": 28,
   "metadata": {},
   "outputs": [],
   "source": [
    "test_vector_data = vectorizer.transform(X_test)\n",
    "test_preprocessed = tfidfer.transform(test_vector_data)"
   ]
  },
  {
   "cell_type": "code",
   "execution_count": 29,
   "metadata": {},
   "outputs": [],
   "source": [
    "import numpy as np\n",
    "import numpy.ma as ma\n",
    "\n",
    "def write_terms (feature_names, data, vector_data, index):\n",
    "    '''\n",
    "    Escribe los términos presentes en un mensaje representado como bolsa de palabras.\n",
    "    \n",
    "    - feature_names: terminos usados para vectorizar\n",
    "    - data: lista de mensajes original (si data==None no se muestra el mensaje original)\n",
    "    - vector_data: matriz (dispersa) de mensaje vectorizados\n",
    "    - index: posición del mensaje a mostrar\n",
    "    '''\n",
    "    # máscara para seleccionar sólo el mensaje en posición index\n",
    "    mask=vector_data[index,:]>0\n",
    "    \n",
    "    # términos que aparecen en ese mensaje vectorizado\n",
    "    terminos = ma.array(feature_names, mask = ~(mask[0].toarray()))\n",
    "    \n",
    "    # mostrar mensaje original\n",
    "    if data is not None:\n",
    "        print('Noticia', index, ':', data[index], '\\n')\n",
    "    \n",
    "    # mostrar términos que aparecen en el mensaje vectorizado\n",
    "    print('Noticia', index, 'vectorizada:', terminos.compressed(),'\\n')\n",
    "    print('Nº Palabras: ', len(terminos.compressed()))"
   ]
  },
  {
   "cell_type": "code",
   "execution_count": 30,
   "metadata": {},
   "outputs": [
    {
     "name": "stdout",
     "output_type": "stream",
     "text": [
      "Noticia 10 : vera drake s bafta triumph hope at the bafta film awards on saturday night  there is the prospect that a home-grown movie could walk off with a clutch of trophies.  vera drake  mike leigh s tale about a 1950s backstreet abortionist  is nominated in 11 categories. these include best film  best director and best actress shortlist for imelda staunton who plays the eponymous character. the film has spent months being lauded with prizes  from the venice film festival to five awards from the london critics  circle on wednesday night.  the baftas has a tradition of honouring british cinema  and this year vera drake is the obvious candidate to be heaped with praise. empire magazine s reviews editor dan jolin said the film had  a very good chance  of doing well on saturday  predicting that it would collect five or six awards.  i don t think it s going to do a lord of the rings-style sweep  but imelda staunton is a shoo-in for best actress   he said.   a best director prize for mike leigh and best british film are also likely and it could steal some awards from heavily-nominated competitors the aviator and finding neverland.  mr jolin tipped another contender - most likely the aviator - to walk away with the bafta for best film  and added that finding neverland had been lavished with nominations but not trophies. strong oscar contenders million dollar baby and sideways did not figure in the bafta nominations  giving vera drake greater potential to walk away with the big prizes.   there is a sense that this film is ours and we should slap our own guys on the back. out of all the films in the running for the baftas  vera drake is the true blue british one.    if mike leigh is going to win awards for anything  it should be vera drake at this year s baftas   said mr jolin  adding that the film was probably his most technically accomplished and lavish work yet. mr jolin also tipped phil davis for a best supporting actor prize for his role in vera drake but felt that heather craney could be outdone by kate winslet or natalie portman in the supporting actress category.  if there is anywhere where this film is going to win  it will be at the baftas   he said.  the guardian s film critic peter bradshaw felt that there  might well be  a sweep of awards for vera drake on saturday night.  i hope that bafta voters will respond to the extremely high standard of acting from the whole cast of the film. if bafta can t do so  what hope is there   he said. mr bradshaw felt that mike leigh s  masterpiece  was entitled to the best film award - leaving dead man s shoes  harry potter and the prisoner of azkaban  my summer of love and shaun of the dead to slug it out for the best british film trophy.  i will be cheering if vera drake wins a whole host of awards   he added. \n",
      "\n",
      "Noticia 10 vectorizada: ['abortionist' 'accomplished' 'acting' 'actor' 'actress' 'added' 'adding'\n",
      " 'aviator' 'award' 'awards' 'away' 'azkaban' 'baby' 'backstreet' 'bafta'\n",
      " 'baftas' 'best' 'big' 'blue' 'bradshaw' 'british' 'candidate' 'cast'\n",
      " 'categories' 'category' 'chance' 'character' 'cheering' 'cinema' 'circle'\n",
      " 'clutch' 'collect' 'competitors' 'contender' 'contenders' 'craney'\n",
      " 'critic' 'critics' 'dan' 'davis' 'dead' 'did' 'director' 'doing' 'dollar'\n",
      " 'don' 'drake' 'editor' 'empire' 'entitled' 'eponymous' 'extremely' 'felt'\n",
      " 'festival' 'figure' 'film' 'films' 'finding' 'giving' 'going' 'good'\n",
      " 'greater' 'grown' 'guardian' 'guys' 'harry' 'heaped' 'heather' 'heavily'\n",
      " 'high' 'home' 'honouring' 'hope' 'host' 'imelda' 'include' 'jolin' 'kate'\n",
      " 'lauded' 'lavish' 'lavished' 'leaving' 'leigh' 'likely' 'london' 'lord'\n",
      " 'love' 'magazine' 'man' 'masterpiece' 'mike' 'million' 'months' 'movie'\n",
      " 'mr' 'natalie' 'neverland' 'night' 'nominated' 'nominations' 'obvious'\n",
      " 'oscar' 'outdone' 'peter' 'phil' 'plays' 'portman' 'potential' 'potter'\n",
      " 'praise' 'predicting' 'prisoner' 'prize' 'prizes' 'probably' 'prospect'\n",
      " 'respond' 'reviews' 'rings' 'role' 'running' 's' 'said' 'saturday'\n",
      " 'sense' 'shaun' 'shoes' 'shoo' 'shortlist' 'sideways' 'slap' 'slug'\n",
      " 'spent' 'standard' 'staunton' 'steal' 'strong' 'style' 'summer'\n",
      " 'supporting' 'sweep' 't' 'tale' 'technically' 'think' 'tipped'\n",
      " 'tradition' 'triumph' 'trophies' 'trophy' 'true' 'venice' 'vera' 'voters'\n",
      " 'walk' 'wednesday' 'win' 'wins' 'winslet' 'work' 'year'] \n",
      "\n",
      "Nº Palabras:  161\n"
     ]
    }
   ],
   "source": [
    "write_terms(feature_names, X_train, train_preprocessed, 10)"
   ]
  },
  {
   "cell_type": "raw",
   "metadata": {},
   "source": [
    "Como vemos en la celda de arriba, se aprecia un mensaje, que es la noticia previa a la vectorización, es decir, la noticia original, y abajo tenemos la lista de palabras que aparecen en el mensaje después de aplicar la vectorización. \n",
    "\n",
    "Como se puede apreciar si nos detenemos a buscar las diferencias es que, para empezar, en la lista con los términos que aparecen en la noticia vectorizada, no encontramos ningún caracter numérico. Por ejemplo, en el mensaje original habla de 11 categorías. Sin embargo en la lista no aparece el término 11. Esto se debe a la eliminación que hemos realizado de los símbolos alfanuméricos que hemos considerado ruido, ya que un número como tal es muy díficil que resulte discriminante a la hora de categorizar una noticia. \n",
    "Si seguimos mirando también observamos que no aparecen palabras como \"do\", \"we\", \"if\", \"so\", \"that\", \"there\", \"and\", \"of\", \"he\", \"she\" ...\n",
    "Como vemos todas estas palabras tienen bastantes cosas en común. A simple vista todas son monosílabos, salvo there, y todas son bastante comunes en cualquier tipo de texto. Echando un vistazo más detallado nos damos cuenta que gran parte de ellas son preposiciones, otra es el verbo \"do\" en infinitivo, otras son las personas de los verbos (he, she, ...). Todas estas palabras ambiguas son eliminadas en la vectorización debido al parámetro stop_words. Estas palabras pertenecen a la lista de palabras vacías que hemos utilizado. \n",
    "\n",
    "Nos parece muy útil ya que todas estas palabras que hemos mencionado no nos parecen muy discriminantes para que el sistema pueda clasificar una noticia con su tipo correspondiente. No elimina ninguna palabra clave como puede ser \"supporting actor\" o \"movie\" en este caso, que se trata de una noticia de entretenimiento. "
   ]
  },
  {
   "cell_type": "code",
   "execution_count": 31,
   "metadata": {},
   "outputs": [],
   "source": [
    "target_names = ['business', 'entertainment', 'politics', 'sport', 'tech']"
   ]
  },
  {
   "cell_type": "code",
   "execution_count": 32,
   "metadata": {},
   "outputs": [],
   "source": [
    "from sklearn.metrics.pairwise import cosine_similarity\n",
    "\n",
    "def knn(query, X_train, k):\n",
    "    '''Devuelve los índices de los k documentos de entrenamiento más similares a la consulta usando \n",
    "    la similitud del coseno.\n",
    "    \n",
    "    Parámetros:\n",
    "    - query: documento consulta vectorizado\n",
    "    - X_train: documentos de entrenamiento vectorizados\n",
    "    - k: número de documentos a recuperar\n",
    "    \n",
    "    Devuelve:\n",
    "    - índices de los k documentos más similares a la consulta.\n",
    "    '''\n",
    "    \n",
    "    # Necesitamos un vector de dimensión (1, X). Si se pasa un vector de dimensión X, transformarlo\n",
    "    if len(query.shape) == 1:\n",
    "        query = query.reshape(1, -1)\n",
    "\n",
    "    simil = cosine_similarity(query, X_train)\n",
    "    simil_idx = np.argsort(simil.flatten())\n",
    "    simil_idx = simil_idx[::-1]\n",
    "    return simil_idx[:k]"
   ]
  },
  {
   "cell_type": "code",
   "execution_count": 33,
   "metadata": {},
   "outputs": [
    {
     "data": {
      "text/plain": [
       "array([524,  52,  27, 879, 392], dtype=int64)"
      ]
     },
     "execution_count": 33,
     "metadata": {},
     "output_type": "execute_result"
    }
   ],
   "source": [
    "knn(test_preprocessed[10], train_preprocessed, 5)"
   ]
  },
  {
   "cell_type": "raw",
   "metadata": {},
   "source": [
    "Usando knn conseguimos las 5 noticias más similares a la noticia de la consulta, que es la noticia 10 del conjunto de test vectorizado. "
   ]
  },
  {
   "cell_type": "code",
   "execution_count": 34,
   "metadata": {},
   "outputs": [],
   "source": [
    "def precision_at_k(y_selected, y_real, k):\n",
    "    '''Devuelve la precisión @k de los documentos seleccionados.\n",
    "    \n",
    "    Parametros:\n",
    "    - y_selected: etiquetas de los documentos seleccionados (se usan los k primeros)\n",
    "    - y_real: etiqueta de la categoría correcta\n",
    "    - k: número de documentos que se tienen en cuenta\n",
    "    \n",
    "    Devuelve:\n",
    "    - Precisión@k\n",
    "    '''\n",
    "    \n",
    "    return np.sum(y_selected[:k] == y_real) / k * 100\n",
    "\n",
    "def mean_precisions_per_class(X_train, y_train, X_test, y_test, k):\n",
    "    '''Devuelve las precision@k media para cada una de las classes.\n",
    "    \n",
    "    Parámetros:\n",
    "    - X_train: documentos de entrenamiento vectorizados.\n",
    "    - y_train: etiquetas de los documentos de entrenamiento.\n",
    "    - X_test: documentos vectorizados que se usan como consultas\n",
    "    - y_test: etiquetas de los documentos que se usan como consultas\n",
    "    - k: número de documentos considerados a recuperar por la consulta\n",
    "    \n",
    "    Devuelve:\n",
    "    - Diccionario clase -> precisión en tanto por ciento.\n",
    "    '''\n",
    "    \n",
    "    # diccionario categoría -> lista de precisiones\n",
    "    y_precisions = {y: [] for y in np.unique(y_test)}\n",
    "    \n",
    "    \n",
    "    # Calcular precision@k para cada consulta\n",
    "    for x_query, y_query in zip(X_test, y_test):\n",
    "        idx = knn(x_query, X_train, k)\n",
    "        y_selected = np.take(y_train, idx)\n",
    "        precision = precision_at_k(y_selected, y_query, k)\n",
    "        y_precisions[y_query].append(precision)\n",
    "        \n",
    "        \n",
    "    # Calcular medias\n",
    "    for y in y_precisions:\n",
    "        y_precisions[y] = np.mean(y_precisions[y])\n",
    "    \n",
    "    return y_precisions"
   ]
  },
  {
   "cell_type": "code",
   "execution_count": 35,
   "metadata": {
    "scrolled": true
   },
   "outputs": [
    {
     "data": {
      "text/plain": [
       "{'business': 89.16666666666667,\n",
       " 'entertainment': 86.66666666666667,\n",
       " 'politics': 87.6470588235294,\n",
       " 'sport': 92.0754716981132,\n",
       " 'tech': 89.65517241379311}"
      ]
     },
     "execution_count": 35,
     "metadata": {},
     "output_type": "execute_result"
    }
   ],
   "source": [
    "p5 = mean_precisions_per_class(train_preprocessed, y_train, test_preprocessed[:200,], y_test[:200], 5)\n",
    "p5"
   ]
  },
  {
   "cell_type": "raw",
   "metadata": {},
   "source": [
    "Vamos a ver como modifica la precisión recuperando 10 elementos en vez de 5. "
   ]
  },
  {
   "cell_type": "code",
   "execution_count": 36,
   "metadata": {},
   "outputs": [
    {
     "data": {
      "text/plain": [
       "{'business': 86.25,\n",
       " 'entertainment': 86.94444444444444,\n",
       " 'politics': 87.05882352941177,\n",
       " 'sport': 93.01886792452831,\n",
       " 'tech': 90.0}"
      ]
     },
     "execution_count": 36,
     "metadata": {},
     "output_type": "execute_result"
    }
   ],
   "source": [
    "p10 = mean_precisions_per_class(train_preprocessed, y_train, test_preprocessed[:200,], y_test[:200], 10)\n",
    "p10"
   ]
  },
  {
   "cell_type": "code",
   "execution_count": 37,
   "metadata": {},
   "outputs": [
    {
     "data": {
      "text/plain": [
       "<AxesSubplot:xlabel='target'>"
      ]
     },
     "execution_count": 37,
     "metadata": {},
     "output_type": "execute_result"
    },
    {
     "data": {
      "image/png": "[encoded data removed]",
      "text/plain": [
       "<Figure size 432x288 with 1 Axes>"
      ]
     },
     "metadata": {
      "needs_background": "light"
     },
     "output_type": "display_data"
    }
   ],
   "source": [
    "import pandas as pd\n",
    "\n",
    "df_p5 = pd.DataFrame.from_dict(p5, orient='index', columns=['precision@5'])\n",
    "\n",
    "df_p5[\"target\"] = target_names\n",
    "\n",
    "d = df_p5.set_index(\"target\")\n",
    "\n",
    "d.plot.bar()"
   ]
  },
  {
   "cell_type": "raw",
   "metadata": {},
   "source": [
    "En el diagrama de arriba podemos ver los valores de precisión medios para las distintas clases, habiendo usado precisión@5. \n",
    "De dicho diagrama sacamos una conclusión clara y es que para las cinco clases de noticias obtenemos unos resultados buenos, o por lo menos mejor de lo que esperábamos, y constantes. \n",
    "\n",
    "Viendo la gráfica y los resultados obtenidos sabemos que la mejor precisión que obtenemos es para las noticias de deportes. Una posibilidad que consideramos que explica el por qué este tipo de noticias es que se trata de la categoría \"más exclusiva\", es decir, en cada noticia deportiva aparecen términos muy discriminantes como pueden ser los nombres de los propios deportes o de los equipos y jugadores que juegan a dichos deportes. Es muy díficil que en una noticia de tecnología salga el nombre de Cristiano Ronaldo, por poner un ejemplo. \n",
    "\n",
    "Las otras noticias, si bien presentan también resultados considerablemente altos y buenos, pueden ser menos exclusivas y generar algo más de ambiguedad, como en el caso de la política y la economía, o incluso el entretenimiento como la tecnología, que pueden estar ligeramente ligados.\n",
    "\n",
    "La que peor resultado obtiene, aunque la diferencia no sea muy amplia, es la noticia de entretenimiento. No entendemos muy bien como es esta la que peor precisión cosecha ya que también se trata de un tipo de noticia muy exclusiva, quizá no tanto que la de deportes eso sí. \n",
    "\n",
    "Esperabamos resultados peores para las de 'politics' y 'business', ya que las consideramos bastante similares relativamente hablando. \n",
    "\n",
    "¿Creemos que los resultados son buenos? Sí lo creemos. Los valores resultantes son bastante altos y la clasificación suele acertar nueve de cada dies veces. Al tratarse de noticias que pueden ser similares entre sí como la política y la economía o incluso la tecnología y el entretenimiento, consideramos aptos los resultados obtenidos. "
   ]
  },
  {
   "cell_type": "markdown",
   "metadata": {
    "id": "lH7sldldpzXi"
   },
   "source": [
    "## 3) Representación basada en word-embeddings y tf-idf\n",
    "\n",
    "La segunda vectorización que vamos a usar representará los mensajes usando usando word-embeddings usando como pesos la frecuencia de aparición de cada palabra. Al igual que en el apartado anterior, usaremos monogramas y las _stop words_ que vienen configuradas por defecto para el inglés. Recuerda usar como vocabulario para vectorizar el vocabulario del fichero con las word-embeddings.\n",
    "\n",
    "Aplica la vectorización a los conjuntos de mensajes de entrenamiento y test.\n",
    "\n",
    "Calcula la precisión@5 de cada una de las clases usando como consultas los documentos de la partición de test y la similitud del coseno. Vamos a considerar que un documento recuperado es relevante cuando pertenezca a la misma clase que la consulta.\n",
    "\n",
    "Dibuja los resultados en un diagrama de barras y compara los resultados con los del apartado anterior."
   ]
  },
  {
   "cell_type": "code",
   "execution_count": 38,
   "metadata": {},
   "outputs": [],
   "source": [
    "from gensim.scripts.glove2word2vec import glove2word2vec\n",
    "from gensim.models import KeyedVectors\n",
    "glove_file = \"glove.6b.50d.txt\"\n",
    "model = KeyedVectors.load_word2vec_format(glove_file, binary=False, no_header=True)"
   ]
  },
  {
   "cell_type": "code",
   "execution_count": 39,
   "metadata": {},
   "outputs": [],
   "source": [
    "we_vocabulary = list(model.key_to_index.keys())\n",
    "vectorizer2 = CountVectorizer(vocabulary = we_vocabulary, binary = False, stop_words='english', token_pattern=r'(?u)\\b[A-Za-z]+\\b')"
   ]
  },
  {
   "cell_type": "code",
   "execution_count": 40,
   "metadata": {},
   "outputs": [],
   "source": [
    "train_vector_data2 = vectorizer2.fit_transform(X_train) # X_train -> Corpus\n",
    "feature_names2 = vectorizer2.get_feature_names()"
   ]
  },
  {
   "cell_type": "code",
   "execution_count": 41,
   "metadata": {},
   "outputs": [],
   "source": [
    "# Calculamos el valor TF-IDF \n",
    "tfidfer2 = TfidfTransformer()\n",
    "train_preprocessed2 = tfidfer.fit_transform(train_vector_data2)\n",
    "\n",
    "test_vector_data2 = vectorizer2.transform(X_test)\n",
    "test_preprocessed2 = tfidfer.transform(test_vector_data2)"
   ]
  },
  {
   "cell_type": "code",
   "execution_count": 42,
   "metadata": {},
   "outputs": [],
   "source": [
    "feature_names2 = vectorizer2.get_feature_names()"
   ]
  },
  {
   "cell_type": "code",
   "execution_count": 43,
   "metadata": {},
   "outputs": [
    {
     "name": "stdout",
     "output_type": "stream",
     "text": [
      "Noticia 10 : vera drake s bafta triumph hope at the bafta film awards on saturday night  there is the prospect that a home-grown movie could walk off with a clutch of trophies.  vera drake  mike leigh s tale about a 1950s backstreet abortionist  is nominated in 11 categories. these include best film  best director and best actress shortlist for imelda staunton who plays the eponymous character. the film has spent months being lauded with prizes  from the venice film festival to five awards from the london critics  circle on wednesday night.  the baftas has a tradition of honouring british cinema  and this year vera drake is the obvious candidate to be heaped with praise. empire magazine s reviews editor dan jolin said the film had  a very good chance  of doing well on saturday  predicting that it would collect five or six awards.  i don t think it s going to do a lord of the rings-style sweep  but imelda staunton is a shoo-in for best actress   he said.   a best director prize for mike leigh and best british film are also likely and it could steal some awards from heavily-nominated competitors the aviator and finding neverland.  mr jolin tipped another contender - most likely the aviator - to walk away with the bafta for best film  and added that finding neverland had been lavished with nominations but not trophies. strong oscar contenders million dollar baby and sideways did not figure in the bafta nominations  giving vera drake greater potential to walk away with the big prizes.   there is a sense that this film is ours and we should slap our own guys on the back. out of all the films in the running for the baftas  vera drake is the true blue british one.    if mike leigh is going to win awards for anything  it should be vera drake at this year s baftas   said mr jolin  adding that the film was probably his most technically accomplished and lavish work yet. mr jolin also tipped phil davis for a best supporting actor prize for his role in vera drake but felt that heather craney could be outdone by kate winslet or natalie portman in the supporting actress category.  if there is anywhere where this film is going to win  it will be at the baftas   he said.  the guardian s film critic peter bradshaw felt that there  might well be  a sweep of awards for vera drake on saturday night.  i hope that bafta voters will respond to the extremely high standard of acting from the whole cast of the film. if bafta can t do so  what hope is there   he said. mr bradshaw felt that mike leigh s  masterpiece  was entitled to the best film award - leaving dead man s shoes  harry potter and the prisoner of azkaban  my summer of love and shaun of the dead to slug it out for the best british film trophy.  i will be cheering if vera drake wins a whole host of awards   he added. \n",
      "\n",
      "Noticia 10 vectorizada: ['said' 'year' 'million' 'did' 'high' 'work' 'home' 'wednesday' 'good'\n",
      " 'going' 'best' 'months' 'think' 'saturday' 'added' 'british' 'man' 'film'\n",
      " 'win' 'night' 'big' 'director' 'away' 'include' 'london' 'role' 'strong'\n",
      " 'likely' 'dollar' 'summer' 'dead' 'running' 'hope' 'love' 'doing'\n",
      " 'probably' 'spent' 'movie' 'chance' 'adding' 'award' 'style' 'potential'\n",
      " 'blue' 'voters' 'leaving' 'standard' 'giving' 'magazine' 'candidate'\n",
      " 'figure' 'peter' 'felt' 'sense' 'plays' 'character' 'greater' 'festival'\n",
      " 'true' 's' 'awards' 'host' 'films' 'mike' 'critics' 'editor' 'cast'\n",
      " 'wins' 'davis' 'prize' 'actor' 'acting' 't' 'baby' 'heavily' 'guys'\n",
      " 'finding' 'lord' 'walk' 'supporting' 'empire' 'extremely' 'tradition'\n",
      " 'grown' 'actress' 'category' 'dan' 'harry' 'don' 'respond' 'nominated'\n",
      " 'reviews' 'entitled' 'oscar' 'circle' 'trophy' 'phil' 'prospect'\n",
      " 'categories' 'obvious' 'critic' 'competitors' 'prisoner' 'shoes'\n",
      " 'collect' 'tale' 'praise' 'triumph' 'cinema' 'sweep' 'accomplished' 'mr'\n",
      " 'guardian' 'rings' 'nominations' 'kate' 'potter' 'steal' 'venice'\n",
      " 'technically' 'prizes' 'contender' 'contenders' 'tipped' 'predicting'\n",
      " 'cheering' 'lavish' 'drake' 'vera' 'slap' 'shaun' 'leigh' 'heather'\n",
      " 'natalie' 'slug' 'clutch' 'lauded' 'masterpiece' 'trophies' 'sideways'\n",
      " 'eponymous' 'bradshaw' 'aviator' 'portman' 'neverland' 'heaped' 'bafta'\n",
      " 'shoo' 'shortlist' 'winslet' 'staunton' 'imelda' 'backstreet' 'lavished'\n",
      " 'honouring' 'outdone' 'azkaban' 'baftas' 'abortionist' 'jolin' 'craney'] \n",
      "\n",
      "Nº Palabras:  161\n"
     ]
    }
   ],
   "source": [
    "write_terms(feature_names2, X_train, train_preprocessed2, 10)"
   ]
  },
  {
   "cell_type": "raw",
   "metadata": {},
   "source": [
    "Vemos que obtenemos la mismas palabras que en el punto 2, solo que ahora aparecen desordenadas. "
   ]
  },
  {
   "cell_type": "code",
   "execution_count": 44,
   "metadata": {},
   "outputs": [
    {
     "data": {
      "text/plain": [
       "{'business': 89.16666666666667,\n",
       " 'entertainment': 86.66666666666667,\n",
       " 'politics': 87.6470588235294,\n",
       " 'sport': 91.69811320754717,\n",
       " 'tech': 91.03448275862068}"
      ]
     },
     "execution_count": 44,
     "metadata": {},
     "output_type": "execute_result"
    }
   ],
   "source": [
    "p5 = mean_precisions_per_class(train_preprocessed2, y_train, test_preprocessed2[:200,], y_test[:200], 5)\n",
    "p5"
   ]
  },
  {
   "cell_type": "code",
   "execution_count": 46,
   "metadata": {},
   "outputs": [
    {
     "data": {
      "text/plain": [
       "<AxesSubplot:xlabel='target'>"
      ]
     },
     "execution_count": 46,
     "metadata": {},
     "output_type": "execute_result"
    },
    {
     "data": {
      "image/png": "[encoded data removed]",
      "text/plain": [
       "<Figure size 432x288 with 1 Axes>"
      ]
     },
     "metadata": {
      "needs_background": "light"
     },
     "output_type": "display_data"
    }
   ],
   "source": [
    "df_p5 = pd.DataFrame.from_dict(p5, orient='index', columns=['precision@5'])\n",
    "\n",
    "df_p5[\"target\"] = target_names\n",
    "\n",
    "d2 = df_p5.set_index(\"target\")\n",
    "\n",
    "d2.plot.bar()"
   ]
  },
  {
   "cell_type": "code",
   "execution_count": 47,
   "metadata": {},
   "outputs": [
    {
     "data": {
      "text/plain": [
       "(<AxesSubplot:xlabel='target'>, <AxesSubplot:xlabel='target'>)"
      ]
     },
     "execution_count": 47,
     "metadata": {},
     "output_type": "execute_result"
    },
    {
     "data": {
      "image/png": "[encoded data removed]",
      "text/plain": [
       "<Figure size 432x288 with 1 Axes>"
      ]
     },
     "metadata": {
      "needs_background": "light"
     },
     "output_type": "display_data"
    },
    {
     "data": {
      "image/png": "[encoded data removed]",
      "text/plain": [
       "<Figure size 432x288 with 1 Axes>"
      ]
     },
     "metadata": {
      "needs_background": "light"
     },
     "output_type": "display_data"
    }
   ],
   "source": [
    "(d.plot.bar(), d2.plot.bar())"
   ]
  },
  {
   "cell_type": "raw",
   "metadata": {},
   "source": [
    "Los resultados obtenidos y que se pueden ver en la celda de arriba nos han sorprendido desfavorablemente. Como podemos apreciar las precisiones calculadas son casi idénticas, variando muy poquito entre ellas. Lo peor de esta variación es que en algunos casos, como en el de las noticias deportivas, el resultado empeora usando word-embeddings, mientras que en las noticias de tecnología sí mejora. Ambas variaciones son de menos de dos puntos sobre 100, lo que nos quiere dejar indicado que, a priori, en este caso el uso de word-embedding no supone una notable mejoría.\n",
    "\n",
    "Creemos que esto se debe a que, en este caso, tenemos pocas categorías de noticias distintas, y habiendo visto al principio distintas noticias para ver que forma tenían, muchas de las que estaban en la misma categoría eran similares entre sí: los resultados de la jornada, la taquilla y los estrenos del viernes, etc..."
   ]
  },
  {
   "cell_type": "markdown",
   "metadata": {
    "id": "d-J6GYut4DGu"
   },
   "source": [
    "## 4) Análisis de errores\n",
    "\n",
    "\n",
    "Vamos a investigar los resultados para entender mejor dónde están fallando los procesos de recuperación. Sigue los siguientes pasos.\n",
    "\n",
    "\n",
    "1. Identifica la categoría de noticias donde la precisión media haya mejorado más al incorporar word-embeddings\n",
    "2. Para dicha categoría, identifica la consulta donde la precisión haya mejorado más al usar word-embeddings\n",
    "3. Muestra el texto original de la consulta y los términos que aparecen en las dos vectorizaciones tf-idf que usamos (recuerda que usamos diccionarios distintos para las vectorizaciones bolsa de palabras y word-embeddings).\n",
    "4. Identifica las noticias recuperadas para dicha consulta para las dos aproximaciones y sus categorías (TF-IDF puro y con word-embeddings)\n",
    "5. Muestra la intersección de términos entre la consulta y la primera noticia mal recuperada usando TF-IDF puro.\n",
    "6. Muestra la intersección de términos entre la consulta y la última noticia bien recuperada usando word-embeddings.\n",
    "7. A la luz de todo lo anterior, razona sobre por qué crees que el TF-IDF no fue capaz de clasificar bien la noticia y el word-embedding sí.\n",
    "\n",
    "\n",
    "Puedes usar el código que calcula la intersección de términos que ponemos a continuación\n",
    "\n",
    "\n"
   ]
  },
  {
   "cell_type": "raw",
   "metadata": {},
   "source": [
    "Vemos que al añadir word-embeddings la categoría donde la precisión media ha mejorado más es la de tecnología. Sin embargo es una mejora apenas insignificante."
   ]
  },
  {
   "cell_type": "raw",
   "metadata": {},
   "source": [
    "Tenemos que hallar la consulta dentro de las noticias tecnológicas donde más se haya mejorado la precisión al utilizar word-embedding"
   ]
  },
  {
   "cell_type": "code",
   "execution_count": 76,
   "metadata": {},
   "outputs": [],
   "source": [
    "def precisions_tech(X_train, y_train, X_test, y_test, k):\n",
    "    \n",
    "    # diccionario categoría -> lista de precisiones\n",
    "    y_precisions = {y: [] for y in np.unique(y_test)}\n",
    "    \n",
    "    tech_precisions = []\n",
    "    cont = 0\n",
    "    \n",
    "    # Calcular precision@k para cada consulta\n",
    "    for x_query, y_query in zip(X_test, y_test):\n",
    "        idx = knn(x_query, X_train, k)\n",
    "        y_selected = np.take(y_train, idx)\n",
    "        precision = precision_at_k(y_selected, y_query, k)\n",
    "        y_precisions[y_query].append(precision)\n",
    "        cont+=1\n",
    "        if y_query == 'tech': \n",
    "            tech_precisions.append({precision, cont})\n",
    "            \n",
    "    return tech_precisions"
   ]
  },
  {
   "cell_type": "raw",
   "metadata": {},
   "source": [
    "El código anterior devuelve un array con la precisión obtenida por cada consulta tecnológica. En cada elemento de la lista obtenemos la precisión y la posición de dicha notica en el conjunto de test total. "
   ]
  },
  {
   "cell_type": "code",
   "execution_count": 69,
   "metadata": {},
   "outputs": [],
   "source": [
    "list_sin_we = precisions_tech(train_preprocessed, y_train, test_preprocessed[:200,], y_test[:200], 5)"
   ]
  },
  {
   "cell_type": "code",
   "execution_count": 70,
   "metadata": {},
   "outputs": [],
   "source": [
    "list_con_we = precisions_tech(train_preprocessed2, y_train, test_preprocessed2[:200,], y_test[:200], 5)"
   ]
  },
  {
   "cell_type": "code",
   "execution_count": 71,
   "metadata": {},
   "outputs": [
    {
     "data": {
      "text/plain": [
       "(array([{3, 100.0}, {8, 100.0}, {10, 100.0}, {100.0, 21}, {80.0, 22},\n",
       "        {34, 100.0}, {80.0, 36}, {100.0, 38}, {40, 100.0}, {100.0, 44},\n",
       "        {100.0, 52}, {80.0, 56}, {80.0, 59}, {100.0, 63}, {60.0, 69},\n",
       "        {100.0, 79}, {100.0, 86}, {88, 100.0}, {40.0, 101}, {100.0, 103},\n",
       "        {107, 100.0}, {100.0, 110}, {130, 100.0}, {40.0, 132},\n",
       "        {145, 100.0}, {80.0, 156}, {172, 60.0}, {100.0, 173}, {188, 100.0}],\n",
       "       dtype=object),\n",
       " array([{3, 100.0}, {8, 100.0}, {10, 100.0}, {100.0, 21}, {80.0, 22},\n",
       "        {34, 100.0}, {100.0, 36}, {100.0, 38}, {40, 100.0}, {100.0, 44},\n",
       "        {100.0, 52}, {80.0, 56}, {80.0, 59}, {100.0, 63}, {60.0, 69},\n",
       "        {100.0, 79}, {100.0, 86}, {88, 100.0}, {60.0, 101}, {100.0, 103},\n",
       "        {107, 100.0}, {100.0, 110}, {130, 100.0}, {40.0, 132},\n",
       "        {145, 100.0}, {80.0, 156}, {172, 60.0}, {100.0, 173}, {188, 100.0}],\n",
       "       dtype=object))"
      ]
     },
     "execution_count": 71,
     "metadata": {},
     "output_type": "execute_result"
    }
   ],
   "source": [
    "(np.array(list_sin_we), np.array(list_con_we))"
   ]
  },
  {
   "cell_type": "raw",
   "metadata": {},
   "source": [
    "Comparando las dos listas anteriores vemos que la noticias 36(7) y 101(19), han sido las únicas que han obtenido una mejora en la precisión. Ambas han mejorado en 20 puntos respecto a la vectorización que no utiliza word-embeddings. "
   ]
  },
  {
   "cell_type": "code",
   "execution_count": 74,
   "metadata": {},
   "outputs": [
    {
     "data": {
      "text/plain": [
       "'moving mobile improves golf swing a mobile phone that recognises and responds to movements has been launched in japan.  the motion-sensitive phone - officially titled the v603sh - was developed by sharp and launched by vodafone s japanese division. devised mainly for mobile gaming  users can also access other phone functions using a pre-set pattern of arm movements. the phone will allow golf fans to improve their swing via a golfing game.  those who prefer shoot- em-ups will be able to use the phone like a gun to shoot the zombies in the mobile version of sega s house of the dead. the phone comes with a tiny motion-control sensor  a computer chip that responds to movement.  other features include a display screen that allows users to watch tv and can rotate 180 degrees. it also doubles up as an electronic musical instrument. users have to select a sound from a menu that includes clapping  tambourine and maracas and shake their phone to create a beat. it is being recommended for the karaoke market. the phone will initially be available in japan only and is due to go on sale in mid-february. the new gadget could make for interesting people-watching among japanese commuters  who are able to access their mobiles on the subway. fishing afficiandos in south korea are already using a phone that allows them to simulate the movement of a rod. the ph-s6500 phone  dubbed a sports-leisure gadget  was developed by korean phone giant pantech and can also be used by runners to measure calorie consumption and distance run.'"
      ]
     },
     "execution_count": 74,
     "metadata": {},
     "output_type": "execute_result"
    }
   ],
   "source": [
    "X_test[35]"
   ]
  },
  {
   "cell_type": "code",
   "execution_count": 75,
   "metadata": {},
   "outputs": [
    {
     "data": {
      "text/plain": [
       "'wi-fi web reaches farmers in peru a network of community computer centres  linked by wireless technology  is providing a helping hand for poor farmers in peru.  the pilot scheme in the huaral valley  80 kilometres north of the capital lima  aims to offer the 6 000-strong community up-to-date information on agricultural market prices and trends. the agricultural information project for farmers of the chancay-huaral valley also provides vital links between local organisations in charge of water irrigation  enabling them to coordinate their actions. more than 13 000 rural inhabitants  as well as 18 000 students in the region  will also benefit from the telecoms infrastructure.  the 14 telecentres uses only free open source software and affordable computer equipment. the network has been three years in the making and was officially inaugurated in september.  the non-government organisation  cepes (peruvian centre for social studies) led the $200 000 project  also backed by local institutions  the education and agriculture ministries  and european development organisations.  the plan includes training on computers and internet skills for both operators and users of the system   said carlos saldarriaga  technical coordinator at cepes. farmers are also taking extra lessons on how to apply the new information to make the most of their plots of land. the board of irrigation users which runs the computer centres  aims to make the network self-sustainable within three years  through the cash generated by using the telecentres as internet cafes.  one of the key elements of the project is the agricultural information system  with its flagship huaral.org website. there  farmers can find the prices for local produce  as well as information on topics ranging from plague prevention to the latest farming techniques. the system also helps the inhabitants of the chancay-huaral valley to organise their vital irrigation systems.  water is the main element that unites them all. it is a precious element in peru s coastal areas  because it is so scarce  and therefore it is necessary to have proper irrigation systems to make the most of it   mr saldarriaga told the bbc news website. the information network also allows farmers to look beyond their own region  and share experiences with other colleagues from the rest of peru and even around the world.  cepes says the involvement of the farmers has been key in the project s success.  throughout the last three years  the people have provided a vital thrust to the project; they feel it belongs to them   said mr saldarriaga. the community training sessions  attended by an equal number of men and women  have been the perfect showcase for their enthusiasm.  we have had an excellent response  mainly from young people. but we have also had a great feedback when we trained 40 or 50-year old women  who were seeing a computer for the first time in their lives.  so far  the huaral programme promoters say the experience has been very positive  and are already planning on spreading the model among other farmers  organisations in peru.  this is a pilot project  and we have been very keen on its cloning potential in other places   underlined mr saldarriaga.  the cepes researcher recalls what happened in cuyo  a 50-family community with no electricity  during the construction of the local telecentre site. there it was necessary to build a mini-hydraulic dam in order to generate 2kw worth of power for the computers  the communications equipment and the cabin lights.  it was already dark when the technicians realised they didn t have any light bulbs to test the generator  so they turned up to the local store to buy light bulbs   recalls carlos saldarriaga.  the logical answer was  we don t sell any   so they had to wait until the next morning to do the testing.  now  with the wireless network  cuyo as well as the other communities is no longer isolated.'"
      ]
     },
     "execution_count": 75,
     "metadata": {},
     "output_type": "execute_result"
    }
   ],
   "source": [
    "X_test[100]"
   ]
  },
  {
   "cell_type": "raw",
   "metadata": {},
   "source": [
    "Estas dos de arriba son las noticias con las que hemos obtenido una mayor mejoría. Aplicaremos el estudio siguiente a ambas noticias, ya que no hay una que haya mejorado más que la otra. "
   ]
  },
  {
   "cell_type": "code",
   "execution_count": 97,
   "metadata": {},
   "outputs": [],
   "source": [
    "def write_terms_aux (feature_names, feature_names2, data, vector_data1, vector_data2, index):\n",
    "    '''\n",
    "    Escribe los términos presentes en un mensaje representado como bolsa de palabras.\n",
    "    \n",
    "    - feature_names: terminos usados para vectorizar\n",
    "    - data: lista de mensajes original (si data==None no se muestra el mensaje original)\n",
    "    - vector_data: matriz (dispersa) de mensaje vectorizados\n",
    "    - index: posición del mensaje a mostrar\n",
    "    '''\n",
    "    # máscara para seleccionar sólo el mensaje en posición index\n",
    "    mask=vector_data1[index,:]>0\n",
    "   \n",
    "    \n",
    "    # términos que aparecen en ese mensaje vectorizado\n",
    "    terminos1 = ma.array(feature_names, mask = ~(mask[0].toarray()))\n",
    "    \n",
    "    # mostrar mensaje original\n",
    "    if data is not None:\n",
    "        print('Noticia', index, ':', data[index], '\\n')\n",
    "    \n",
    "    # mostrar términos que aparecen en el mensaje vectorizado\n",
    "    print('Noticia', index, 'vectorizada:', terminos1.compressed(),'\\n')\n",
    "    print('Nº Palabras: ', len(terminos1.compressed()))\n",
    "    \n",
    "    \n",
    "    mask=vector_data2[index,:]>0\n",
    "    terminos2 = ma.array(feature_names2, mask = ~(mask[0].toarray()))\n",
    "    \n",
    "    print('Noticia', index, 'vectorizada (we)', terminos2.compressed(), '\\n')\n",
    "    print('Nº Palabras (we): ', len(terminos2.compressed()))"
   ]
  },
  {
   "cell_type": "raw",
   "metadata": {},
   "source": [
    "Con el código de arriba hemos modificado la funcion \"write_terms\" para que ahora muestre tanto los terminos habiendo utilizado vectorización con word-embedding como la vectorización sin usarla"
   ]
  },
  {
   "cell_type": "code",
   "execution_count": 98,
   "metadata": {},
   "outputs": [
    {
     "name": "stdout",
     "output_type": "stream",
     "text": [
      "Noticia 35 : moving mobile improves golf swing a mobile phone that recognises and responds to movements has been launched in japan.  the motion-sensitive phone - officially titled the v603sh - was developed by sharp and launched by vodafone s japanese division. devised mainly for mobile gaming  users can also access other phone functions using a pre-set pattern of arm movements. the phone will allow golf fans to improve their swing via a golfing game.  those who prefer shoot- em-ups will be able to use the phone like a gun to shoot the zombies in the mobile version of sega s house of the dead. the phone comes with a tiny motion-control sensor  a computer chip that responds to movement.  other features include a display screen that allows users to watch tv and can rotate 180 degrees. it also doubles up as an electronic musical instrument. users have to select a sound from a menu that includes clapping  tambourine and maracas and shake their phone to create a beat. it is being recommended for the karaoke market. the phone will initially be available in japan only and is due to go on sale in mid-february. the new gadget could make for interesting people-watching among japanese commuters  who are able to access their mobiles on the subway. fishing afficiandos in south korea are already using a phone that allows them to simulate the movement of a rod. the ph-s6500 phone  dubbed a sports-leisure gadget  was developed by korean phone giant pantech and can also be used by runners to measure calorie consumption and distance run. \n",
      "\n",
      "Noticia 35 vectorizada: ['able' 'access' 'allow' 'allows' 'arm' 'available' 'beat' 'chip' 'comes'\n",
      " 'commuters' 'computer' 'consumption' 'control' 'create' 'dead' 'degrees'\n",
      " 'developed' 'devised' 'display' 'distance' 'division' 'doubles' 'dubbed'\n",
      " 'electronic' 'em' 'fans' 'features' 'february' 'fishing' 'functions'\n",
      " 'gadget' 'game' 'gaming' 'giant' 'golf' 'gun' 'house' 'improve'\n",
      " 'improves' 'include' 'includes' 'initially' 'interesting' 'japan'\n",
      " 'japanese' 'korea' 'korean' 'launched' 'leisure' 'like' 'mainly' 'make'\n",
      " 'market' 'measure' 'menu' 'mid' 'mobile' 'mobiles' 'motion' 'movement'\n",
      " 'movements' 'moving' 'musical' 'new' 'officially' 'pattern' 'people'\n",
      " 'phone' 'pre' 'prefer' 'recognises' 'recommended' 'responds' 'rod' 'run'\n",
      " 'runners' 's' 'sale' 'screen' 'select' 'sensitive' 'sensor' 'set' 'shake'\n",
      " 'sharp' 'shoot' 'simulate' 'sound' 'south' 'sports' 'swing' 'tiny'\n",
      " 'titled' 'tv' 'ups' 'use' 'used' 'users' 'using' 'version' 'vodafone'\n",
      " 'watch' 'watching' 'zombies'] \n",
      "\n",
      "Nº Palabras:  104\n",
      "Noticia 35 vectorizada (we) ['new' 'people' 'like' 'south' 'make' 'house' 'used' 'game' 'set' 'market'\n",
      " 'use' 'run' 'japan' 'control' 'include' 'korea' 'february' 'using'\n",
      " 'japanese' 'able' 'division' 'dead' 'available' 'tv' 'sports' 'movement'\n",
      " 'comes' 'allow' 'computer' 'beat' 'includes' 'version' 'korean' 'access'\n",
      " 'developed' 'launched' 'fans' 'create' 'moving' 'phone' 'features'\n",
      " 'sound' 's' 'sale' 'improve' 'mainly' 'watch' 'giant' 'measure'\n",
      " 'initially' 'gun' 'golf' 'musical' 'mid' 'distance' 'mobile' 'officially'\n",
      " 'allows' 'screen' 'electronic' 'users' 'watching' 'arm' 'sharp' 'display'\n",
      " 'pre' 'degrees' 'motion' 'fishing' 'tiny' 'sensitive' 'chip'\n",
      " 'recommended' 'interesting' 'shoot' 'consumption' 'doubles' 'titled'\n",
      " 'functions' 'movements' 'pattern' 'swing' 'select' 'prefer' 'subway'\n",
      " 'dubbed' 'ups' 'instrument' 'runners' 'shake' 'rod' 'menu' 'gaming'\n",
      " 'leisure' 'devised' 'commuters' 'improves' 'responds' 'sensor' 'sega'\n",
      " 'vodafone' 'rotate' 'ph' 'simulate' 'karaoke' 'em' 'gadget' 'zombies'\n",
      " 'golfing' 'calorie' 'recognises' 'clapping' 'mobiles' 'tambourine'\n",
      " 'maracas' 'pantech'] \n",
      "\n",
      "Nº Palabras (we):  116\n"
     ]
    }
   ],
   "source": [
    "write_terms_aux(feature_names, feature_names2, X_test, test_preprocessed, test_preprocessed2, 35)"
   ]
  },
  {
   "cell_type": "raw",
   "metadata": {},
   "source": [
    "En la celda anterior vemos que de las dos vectorizaciones hay una que tiene más palabras que la otra, y esa es en la que hemos utilizado word embedding. En particular 14 palabras más. "
   ]
  },
  {
   "cell_type": "code",
   "execution_count": 99,
   "metadata": {},
   "outputs": [
    {
     "name": "stdout",
     "output_type": "stream",
     "text": [
      "Noticia 100 : wi-fi web reaches farmers in peru a network of community computer centres  linked by wireless technology  is providing a helping hand for poor farmers in peru.  the pilot scheme in the huaral valley  80 kilometres north of the capital lima  aims to offer the 6 000-strong community up-to-date information on agricultural market prices and trends. the agricultural information project for farmers of the chancay-huaral valley also provides vital links between local organisations in charge of water irrigation  enabling them to coordinate their actions. more than 13 000 rural inhabitants  as well as 18 000 students in the region  will also benefit from the telecoms infrastructure.  the 14 telecentres uses only free open source software and affordable computer equipment. the network has been three years in the making and was officially inaugurated in september.  the non-government organisation  cepes (peruvian centre for social studies) led the $200 000 project  also backed by local institutions  the education and agriculture ministries  and european development organisations.  the plan includes training on computers and internet skills for both operators and users of the system   said carlos saldarriaga  technical coordinator at cepes. farmers are also taking extra lessons on how to apply the new information to make the most of their plots of land. the board of irrigation users which runs the computer centres  aims to make the network self-sustainable within three years  through the cash generated by using the telecentres as internet cafes.  one of the key elements of the project is the agricultural information system  with its flagship huaral.org website. there  farmers can find the prices for local produce  as well as information on topics ranging from plague prevention to the latest farming techniques. the system also helps the inhabitants of the chancay-huaral valley to organise their vital irrigation systems.  water is the main element that unites them all. it is a precious element in peru s coastal areas  because it is so scarce  and therefore it is necessary to have proper irrigation systems to make the most of it   mr saldarriaga told the bbc news website. the information network also allows farmers to look beyond their own region  and share experiences with other colleagues from the rest of peru and even around the world.  cepes says the involvement of the farmers has been key in the project s success.  throughout the last three years  the people have provided a vital thrust to the project; they feel it belongs to them   said mr saldarriaga. the community training sessions  attended by an equal number of men and women  have been the perfect showcase for their enthusiasm.  we have had an excellent response  mainly from young people. but we have also had a great feedback when we trained 40 or 50-year old women  who were seeing a computer for the first time in their lives.  so far  the huaral programme promoters say the experience has been very positive  and are already planning on spreading the model among other farmers  organisations in peru.  this is a pilot project  and we have been very keen on its cloning potential in other places   underlined mr saldarriaga.  the cepes researcher recalls what happened in cuyo  a 50-family community with no electricity  during the construction of the local telecentre site. there it was necessary to build a mini-hydraulic dam in order to generate 2kw worth of power for the computers  the communications equipment and the cabin lights.  it was already dark when the technicians realised they didn t have any light bulbs to test the generator  so they turned up to the local store to buy light bulbs   recalls carlos saldarriaga.  the logical answer was  we don t sell any   so they had to wait until the next morning to do the testing.  now  with the wireless network  cuyo as well as the other communities is no longer isolated. \n",
      "\n",
      "Noticia 100 vectorizada: ['actions' 'affordable' 'agricultural' 'agriculture' 'aims' 'allows'\n",
      " 'answer' 'apply' 'areas' 'attended' 'backed' 'bbc' 'belongs' 'benefit'\n",
      " 'board' 'build' 'bulbs' 'buy' 'cabin' 'cafes' 'capital' 'carlos' 'cash'\n",
      " 'centre' 'centres' 'charge' 'cloning' 'coastal' 'colleagues'\n",
      " 'communications' 'communities' 'community' 'computer' 'computers'\n",
      " 'construction' 'coordinator' 'dam' 'dark' 'date' 'development' 'didn'\n",
      " 'don' 'education' 'electricity' 'element' 'elements' 'enabling'\n",
      " 'enthusiasm' 'equal' 'equipment' 'european' 'excellent' 'experience'\n",
      " 'experiences' 'extra' 'family' 'far' 'farmers' 'farming' 'feedback'\n",
      " 'feel' 'fi' 'flagship' 'free' 'generate' 'generated' 'generator'\n",
      " 'government' 'great' 'hand' 'happened' 'helping' 'helps' 'hydraulic'\n",
      " 'includes' 'information' 'infrastructure' 'institutions' 'internet'\n",
      " 'involvement' 'irrigation' 'isolated' 'keen' 'key' 'kilometres' 'land'\n",
      " 'latest' 'led' 'lessons' 'light' 'lights' 'linked' 'links' 'lives'\n",
      " 'local' 'logical' 'longer' 'look' 'main' 'mainly' 'make' 'making'\n",
      " 'market' 'men' 'mini' 'ministries' 'model' 'morning' 'mr' 'necessary'\n",
      " 'network' 'new' 'news' 'non' 'north' 'number' 'offer' 'officially' 'old'\n",
      " 'open' 'operators' 'order' 'org' 'organisation' 'organisations'\n",
      " 'organise' 'people' 'perfect' 'peru' 'peruvian' 'pilot' 'places' 'plague'\n",
      " 'plan' 'planning' 'plots' 'poor' 'positive' 'potential' 'power'\n",
      " 'precious' 'prevention' 'prices' 'produce' 'programme' 'project'\n",
      " 'promoters' 'proper' 'provided' 'provides' 'providing' 'ranging'\n",
      " 'reaches' 'realised' 'recalls' 'region' 'researcher' 'response' 'rest'\n",
      " 'runs' 'rural' 's' 'said' 'say' 'says' 'scarce' 'scheme' 'seeing' 'self'\n",
      " 'sell' 'september' 'sessions' 'share' 'showcase' 'site' 'skills' 'social'\n",
      " 'software' 'source' 'spreading' 'store' 'strong' 'students' 'studies'\n",
      " 'success' 'sustainable' 'systems' 't' 'taking' 'technical' 'technicians'\n",
      " 'techniques' 'technology' 'telecoms' 'test' 'testing' 'thrust' 'time'\n",
      " 'told' 'topics' 'trained' 'training' 'trends' 'turned' 'underlined'\n",
      " 'users' 'uses' 'using' 'valley' 'vital' 'wait' 'water' 'web' 'website'\n",
      " 'wi' 'wireless' 'women' 'world' 'worth' 'year' 'years' 'young'] \n",
      "\n",
      "Nº Palabras:  222\n",
      "Noticia 100 vectorizada (we) ['said' 'new' 'year' 'people' 'government' 'time' 'years' 'world' 'told'\n",
      " 'make' 'old' 'news' 'north' 'say' 'says' 'market' 'family' 'number'\n",
      " 'local' 'women' 'power' 'european' 'men' 'open' 'led' 'capital' 'great'\n",
      " 'region' 'far' 'development' 'plan' 'free' 'information' 'water' 'making'\n",
      " 'september' 'main' 'order' 'young' 'prices' 'community' 'board'\n",
      " 'students' 'strong' 'site' 'taking' 'share' 'land' 'areas' 'using'\n",
      " 'education' 'key' 'social' 'look' 'project' 'test' 'technology' 'morning'\n",
      " 'training' 'hand' 'network' 'turned' 'light' 'offer' 'construction'\n",
      " 'internet' 'computer' 'lives' 'runs' 'buy' 'poor' 'latest' 'feel'\n",
      " 'includes' 'rest' 'success' 'longer' 'worth' 'charge' 'systems'\n",
      " 'response' 'potential' 'web' 'source' 'build' 'provided' 'experience'\n",
      " 'sell' 'date' 'positive' 'non' 'studies' 'equipment' 'model' 'places'\n",
      " 'centre' 'valley' 'cash' 'self' 'necessary' 'software' 's' 'planning'\n",
      " 'attended' 'happened' 'store' 'mainly' 'produce' 'rural' 'backed'\n",
      " 'communications' 'provides' 'actions' 'extra' 'linked' 'technical'\n",
      " 'institutions' 'uses' 'providing' 'helping' 't' 'benefit' 'answer'\n",
      " 'farmers' 'communities' 'dark' 'agriculture' 'links' 'officially'\n",
      " 'allows' 'wait' 'pilot' 'website' 'testing' 'users' 'perfect' 'elements'\n",
      " 'electricity' 'seeing' 'computers' 'agricultural' 'involvement'\n",
      " 'programme' 'infrastructure' 'equal' 'bbc' 'carlos' 'trained' 'skills'\n",
      " 'organisation' 'colleagues' 'don' 'apply' 'coastal' 'helps' 'scheme'\n",
      " 'proper' 'ranging' 'vital' 'peru' 'sessions' 'kilometres' 'techniques'\n",
      " 'excellent' 'aims' 'lights' 'isolated' 'prevention' 'generated' 'dam'\n",
      " 'element' 'wireless' 'inhabitants' 'experiences' 'operators' 'generate'\n",
      " 'coordinator' 'reaches' 'lessons' 'sustainable' 'farming' 'topics'\n",
      " 'spreading' 'researcher' 'belongs' 'keen' 'mr' 'recalls' 'trends' 'mini'\n",
      " 'organisations' 'enthusiasm' 'precious' 'ministries' 'cabin' 'coordinate'\n",
      " 'centres' 'peruvian' 'affordable' 'lima' 'flagship' 'showcase'\n",
      " 'inaugurated' 'enabling' 'logical' 'thrust' 'plots' 'irrigation' 'plague'\n",
      " 'technicians' 'feedback' 'underlined' 'scarce' 'cloning' 'generator' 'fi'\n",
      " 'cafes' 'telecoms' 'realised' 'hydraulic' 'promoters' 'bulbs' 'organise'\n",
      " 'wi' 'unites' 'org' 'didn' 'cuyo' 'huaral' 'chancay' 'telecentre' 'cepes'\n",
      " 'telecentres'] \n",
      "\n",
      "Nº Palabras (we):  233\n"
     ]
    }
   ],
   "source": [
    "write_terms_aux(feature_names, feature_names2, X_test, test_preprocessed, test_preprocessed2, 100)"
   ]
  },
  {
   "cell_type": "raw",
   "metadata": {},
   "source": [
    "Ahora el número de palabras utilizando word-embedding ha aumentado en 11. "
   ]
  },
  {
   "cell_type": "code",
   "execution_count": 104,
   "metadata": {},
   "outputs": [
    {
     "data": {
      "text/plain": [
       "(1192, 21183)"
      ]
     },
     "execution_count": 104,
     "metadata": {},
     "output_type": "execute_result"
    }
   ],
   "source": [
    "train_preprocessed.shape"
   ]
  },
  {
   "cell_type": "code",
   "execution_count": 105,
   "metadata": {},
   "outputs": [
    {
     "ename": "AttributeError",
     "evalue": "'str' object has no attribute 'shape'",
     "output_type": "error",
     "traceback": [
      "\u001b[1;31m---------------------------------------------------------------------------\u001b[0m",
      "\u001b[1;31mAttributeError\u001b[0m                            Traceback (most recent call last)",
      "\u001b[1;32m<ipython-input-105-cbb9b6b0ea2d>\u001b[0m in \u001b[0;36m<module>\u001b[1;34m\u001b[0m\n\u001b[1;32m----> 1\u001b[1;33m \u001b[0mknn\u001b[0m\u001b[1;33m(\u001b[0m\u001b[0mX_test\u001b[0m\u001b[1;33m[\u001b[0m\u001b[1;36m35\u001b[0m\u001b[1;33m]\u001b[0m\u001b[1;33m,\u001b[0m \u001b[0mtrain_preprocessed\u001b[0m\u001b[1;33m,\u001b[0m \u001b[1;36m1\u001b[0m\u001b[1;33m)\u001b[0m\u001b[1;33m\u001b[0m\u001b[1;33m\u001b[0m\u001b[0m\n\u001b[0m",
      "\u001b[1;32m<ipython-input-32-ec2ae1fbbdbb>\u001b[0m in \u001b[0;36mknn\u001b[1;34m(query, X_train, k)\u001b[0m\n\u001b[0;32m     15\u001b[0m \u001b[1;33m\u001b[0m\u001b[0m\n\u001b[0;32m     16\u001b[0m     \u001b[1;31m# Necesitamos un vector de dimensión (1, X). Si se pasa un vector de dimensión X, transformarlo\u001b[0m\u001b[1;33m\u001b[0m\u001b[1;33m\u001b[0m\u001b[1;33m\u001b[0m\u001b[0m\n\u001b[1;32m---> 17\u001b[1;33m     \u001b[1;32mif\u001b[0m \u001b[0mlen\u001b[0m\u001b[1;33m(\u001b[0m\u001b[0mquery\u001b[0m\u001b[1;33m.\u001b[0m\u001b[0mshape\u001b[0m\u001b[1;33m)\u001b[0m \u001b[1;33m==\u001b[0m \u001b[1;36m1\u001b[0m\u001b[1;33m:\u001b[0m\u001b[1;33m\u001b[0m\u001b[1;33m\u001b[0m\u001b[0m\n\u001b[0m\u001b[0;32m     18\u001b[0m         \u001b[0mquery\u001b[0m \u001b[1;33m=\u001b[0m \u001b[0mquery\u001b[0m\u001b[1;33m.\u001b[0m\u001b[0mreshape\u001b[0m\u001b[1;33m(\u001b[0m\u001b[1;36m1\u001b[0m\u001b[1;33m,\u001b[0m \u001b[1;33m-\u001b[0m\u001b[1;36m1\u001b[0m\u001b[1;33m)\u001b[0m\u001b[1;33m\u001b[0m\u001b[1;33m\u001b[0m\u001b[0m\n\u001b[0;32m     19\u001b[0m \u001b[1;33m\u001b[0m\u001b[0m\n",
      "\u001b[1;31mAttributeError\u001b[0m: 'str' object has no attribute 'shape'"
     ]
    }
   ],
   "source": [
    "knn(X_test[35], train_preprocessed, 1)"
   ]
  },
  {
   "cell_type": "raw",
   "metadata": {},
   "source": [
    "Con la celda anterior lo que buscábamos era conseguir el documento de entrenamiento más similar a la consulta, siendo esta las dos noticias que habiamos seleccionado antes. Sin embargo, después de muchas pruebas, no hemos conseguido hacer funcionar la llamada a knn para obtener lo que acabamos de mencionar, por lo que no hemos podido terminar el estudio completo. "
   ]
  },
  {
   "cell_type": "code",
   "execution_count": 67,
   "metadata": {},
   "outputs": [],
   "source": [
    "def terms_in_message(feature_names,vector_data,index):\n",
    "    '''\n",
    "    Devuelve un conjunto los términos presentes en un mensaje representado como bolsa de palabras.\n",
    "    \n",
    "    - feature_names: terminos usados para vectorizar\n",
    "    - vector_data: matriz (dispersa) de mensaje vectorizados\n",
    "    - index: posición del mensaje a mostrar\n",
    "    '''\n",
    "    mensaje=vector_data[index,:]>0\n",
    "    terminos_presentes = ma.array(feature_names, mask = ~(mensaje[0].toarray()))\n",
    "\n",
    "    return set(terminos_presentes.compressed())"
   ]
  },
  {
   "cell_type": "code",
   "execution_count": 68,
   "metadata": {},
   "outputs": [
    {
     "data": {
      "text/plain": [
       "{'abortionist',\n",
       " 'accomplished',\n",
       " 'acting',\n",
       " 'actor',\n",
       " 'actress',\n",
       " 'added',\n",
       " 'adding',\n",
       " 'aviator',\n",
       " 'award',\n",
       " 'awards',\n",
       " 'away',\n",
       " 'azkaban',\n",
       " 'baby',\n",
       " 'backstreet',\n",
       " 'bafta',\n",
       " 'baftas',\n",
       " 'best',\n",
       " 'big',\n",
       " 'blue',\n",
       " 'bradshaw',\n",
       " 'british',\n",
       " 'candidate',\n",
       " 'cast',\n",
       " 'categories',\n",
       " 'category',\n",
       " 'chance',\n",
       " 'character',\n",
       " 'cheering',\n",
       " 'cinema',\n",
       " 'circle',\n",
       " 'clutch',\n",
       " 'collect',\n",
       " 'competitors',\n",
       " 'contender',\n",
       " 'contenders',\n",
       " 'craney',\n",
       " 'critic',\n",
       " 'critics',\n",
       " 'dan',\n",
       " 'davis',\n",
       " 'dead',\n",
       " 'did',\n",
       " 'director',\n",
       " 'doing',\n",
       " 'dollar',\n",
       " 'don',\n",
       " 'drake',\n",
       " 'editor',\n",
       " 'empire',\n",
       " 'entitled',\n",
       " 'eponymous',\n",
       " 'extremely',\n",
       " 'felt',\n",
       " 'festival',\n",
       " 'figure',\n",
       " 'film',\n",
       " 'films',\n",
       " 'finding',\n",
       " 'giving',\n",
       " 'going',\n",
       " 'good',\n",
       " 'greater',\n",
       " 'grown',\n",
       " 'guardian',\n",
       " 'guys',\n",
       " 'harry',\n",
       " 'heaped',\n",
       " 'heather',\n",
       " 'heavily',\n",
       " 'high',\n",
       " 'home',\n",
       " 'honouring',\n",
       " 'hope',\n",
       " 'host',\n",
       " 'imelda',\n",
       " 'include',\n",
       " 'jolin',\n",
       " 'kate',\n",
       " 'lauded',\n",
       " 'lavish',\n",
       " 'lavished',\n",
       " 'leaving',\n",
       " 'leigh',\n",
       " 'likely',\n",
       " 'london',\n",
       " 'lord',\n",
       " 'love',\n",
       " 'magazine',\n",
       " 'man',\n",
       " 'masterpiece',\n",
       " 'mike',\n",
       " 'million',\n",
       " 'months',\n",
       " 'movie',\n",
       " 'mr',\n",
       " 'natalie',\n",
       " 'neverland',\n",
       " 'night',\n",
       " 'nominated',\n",
       " 'nominations',\n",
       " 'obvious',\n",
       " 'oscar',\n",
       " 'outdone',\n",
       " 'peter',\n",
       " 'phil',\n",
       " 'plays',\n",
       " 'portman',\n",
       " 'potential',\n",
       " 'potter',\n",
       " 'praise',\n",
       " 'predicting',\n",
       " 'prisoner',\n",
       " 'prize',\n",
       " 'prizes',\n",
       " 'probably',\n",
       " 'prospect',\n",
       " 'respond',\n",
       " 'reviews',\n",
       " 'rings',\n",
       " 'role',\n",
       " 'running',\n",
       " 's',\n",
       " 'said',\n",
       " 'saturday',\n",
       " 'sense',\n",
       " 'shaun',\n",
       " 'shoes',\n",
       " 'shoo',\n",
       " 'shortlist',\n",
       " 'sideways',\n",
       " 'slap',\n",
       " 'slug',\n",
       " 'spent',\n",
       " 'standard',\n",
       " 'staunton',\n",
       " 'steal',\n",
       " 'strong',\n",
       " 'style',\n",
       " 'summer',\n",
       " 'supporting',\n",
       " 'sweep',\n",
       " 't',\n",
       " 'tale',\n",
       " 'technically',\n",
       " 'think',\n",
       " 'tipped',\n",
       " 'tradition',\n",
       " 'triumph',\n",
       " 'trophies',\n",
       " 'trophy',\n",
       " 'true',\n",
       " 'venice',\n",
       " 'vera',\n",
       " 'voters',\n",
       " 'walk',\n",
       " 'wednesday',\n",
       " 'win',\n",
       " 'wins',\n",
       " 'winslet',\n",
       " 'work',\n",
       " 'year'}"
      ]
     },
     "execution_count": 68,
     "metadata": {},
     "output_type": "execute_result"
    }
   ],
   "source": [
    "terms_in_message(feature_names2, train_vector_data2, 10)"
   ]
  }
 ],
 "metadata": {
  "colab": {
   "name": "P2_recuperacion_informacion_2122_enunciado.ipynb",
   "provenance": []
  },
  "kernelspec": {
   "display_name": "Python 3",
   "language": "python",
   "name": "python3"
  },
  "language_info": {
   "codemirror_mode": {
    "name": "ipython",
    "version": 3
   },
   "file_extension": ".py",
   "mimetype": "text/x-python",
   "name": "python",
   "nbconvert_exporter": "python",
   "pygments_lexer": "ipython3",
   "version": "3.8.8"
  }
 },
 "nbformat": 4,
 "nbformat_minor": 1
}
